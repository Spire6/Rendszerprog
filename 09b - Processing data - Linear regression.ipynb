{
 "cells": [
  {
   "cell_type": "markdown",
   "metadata": {},
   "source": [
    "# Solving regression tasks with machine learning"
   ]
  },
  {
   "cell_type": "markdown",
   "metadata": {},
   "source": [
    "## Science Kit for learning - ```sklearn``` package\n",
    "\n",
    "[sklearn](https://scikit-learn.org/stable) is an open source machine learning library that supports supervised and unsupervised learning.  \n",
    "Provides basic implementaions for machine learning practices:\n",
    "- data preprocessing\n",
    "- modell selection\n",
    "- model building\n",
    "- fitting - automatic parameter searching/training\n",
    "- predicting\n",
    "- validation"
   ]
  },
  {
   "cell_type": "markdown",
   "metadata": {},
   "source": [
    "## Prerequisites\n",
    "Install required packages:\n",
    "- numpy\n",
    "- sklearn\n",
    "- matplotlib  \n",
    "  \n",
    "Install packages in Jupyter kernel"
   ]
  },
  {
   "cell_type": "code",
   "execution_count": null,
   "metadata": {},
   "outputs": [],
   "source": [
    "import sys\n",
    "print(sys.executable)"
   ]
  },
  {
   "cell_type": "code",
   "execution_count": null,
   "metadata": {},
   "outputs": [],
   "source": [
    "!{sys.executable} -m pip install numpy\n",
    "!{sys.executable} -m pip install sklearn\n",
    "!{sys.executable} -m pip install matplotlib"
   ]
  },
  {
   "cell_type": "markdown",
   "metadata": {},
   "source": [
    "Import required modules\n",
    "- numpy\n",
    "- from sklearn\n",
    "    - preprocessing\n",
    "    - linear_model\n",
    "- matplotlib.pyplot"
   ]
  },
  {
   "cell_type": "code",
   "execution_count": null,
   "metadata": {},
   "outputs": [],
   "source": [
    "import numpy as np\n",
    "from sklearn import preprocessing\n",
    "from sklearn import linear_model\n",
    "import matplotlib.pyplot as plt\n",
    "\n",
    "# Required to use matplotlib embedded in Jupyter notebook\n",
    "%matplotlib inline\n",
    "\n",
    "# set inline graph size\n",
    "plt.rcParams['figure.figsize'] = [15, 5]"
   ]
  },
  {
   "cell_type": "markdown",
   "metadata": {},
   "source": [
    "## Steps to create regression example\n",
    "1. Create data\n",
    "    1. create clean data\n",
    "        - linear\n",
    "        - non-linear\n",
    "    2. put noise (uniform distribution) on data - as many times as want\n",
    "2. Print and/or show created data\n",
    "3. Create approximation\n",
    "    - linear\n",
    "    - nonlinear"
   ]
  },
  {
   "cell_type": "markdown",
   "metadata": {},
   "source": [
    "## Create clean linear data\n",
    "\\begin{equation*}\n",
    "y = a x + b\n",
    "\\end{equation*}"
   ]
  },
  {
   "cell_type": "code",
   "execution_count": null,
   "metadata": {},
   "outputs": [],
   "source": [
    "X_src = np.arange(-3, 3, 0.1)\n",
    "X = X_src.reshape(-1, 1)\n",
    "a = 1\n",
    "b = 0.12\n",
    "y = a * X_src + b"
   ]
  },
  {
   "cell_type": "markdown",
   "metadata": {},
   "source": [
    "## Create clean quadratic data\n",
    "\\begin{equation*}\n",
    "y = a_1 x^2 + a_0 x + b\n",
    "\\end{equation*}"
   ]
  },
  {
   "cell_type": "code",
   "execution_count": null,
   "metadata": {},
   "outputs": [],
   "source": [
    "X_src = np.arange(-3, 3, 0.1)\n",
    "X = X_src.reshape(-1, 1)\n",
    "a1 = 1\n",
    "a0 = 0.12\n",
    "b = 2\n",
    "y = a1 * X_src**2 + a0 * X_src + b"
   ]
  },
  {
   "cell_type": "markdown",
   "metadata": {},
   "source": [
    "## Create clean cubic data\n",
    "\\begin{equation*}\n",
    "y = a_2 x^3 + a_1 x^2 + a_0 x + b\n",
    "\\end{equation*}"
   ]
  },
  {
   "cell_type": "code",
   "execution_count": null,
   "metadata": {},
   "outputs": [],
   "source": [
    "X_src = np.arange(-3, 3, 0.1)\n",
    "X = X_src.reshape(-1, 1)\n",
    "a2 = 0.95\n",
    "a1 = 0.7\n",
    "a0 = 0.12\n",
    "b = 2\n",
    "y = a2 * X_src**3 + a1 * X_src**2 + a0 * X_src + b"
   ]
  },
  {
   "cell_type": "markdown",
   "metadata": {},
   "source": [
    "## Put noise on data\n",
    "\\begin{equation*}\n",
    "y = y + rnd \\left( -0.5 .. 0.5 \\right)\n",
    "\\end{equation*}"
   ]
  },
  {
   "cell_type": "code",
   "execution_count": null,
   "metadata": {},
   "outputs": [],
   "source": [
    "noise_amp = 3\n",
    "noise = (np.random.rand(1, len(X_src)).ravel() - 0.5) * noise_amp\n",
    "y = y + noise"
   ]
  },
  {
   "cell_type": "markdown",
   "metadata": {},
   "source": [
    "## Print created data"
   ]
  },
  {
   "cell_type": "code",
   "execution_count": null,
   "metadata": {},
   "outputs": [],
   "source": [
    "y"
   ]
  },
  {
   "cell_type": "markdown",
   "metadata": {},
   "source": [
    "## Show created data"
   ]
  },
  {
   "cell_type": "code",
   "execution_count": null,
   "metadata": {},
   "outputs": [],
   "source": [
    "plt.scatter(X, y)\n",
    "plt.show()"
   ]
  },
  {
   "cell_type": "markdown",
   "metadata": {},
   "source": [
    "### Linear regression to approximate noisy data  \n",
    "Linear data can be approximated  \n",
    "Non-linear data approximation is inaccurate"
   ]
  },
  {
   "cell_type": "code",
   "execution_count": null,
   "metadata": {},
   "outputs": [],
   "source": [
    "lin_reg = linear_model.LinearRegression()\n",
    "X_src = X\n",
    "lin_reg.fit(X_src, y)"
   ]
  },
  {
   "cell_type": "markdown",
   "metadata": {},
   "source": [
    "### (Second degree) Polinomial regression to approximate noisy data\n",
    "Polinomial regression approximates well also linear and non-linear data  \n",
    "\\begin{equation*}\n",
    "y = a_1 x^2 + a_0 x + b\n",
    "\\end{equation*}"
   ]
  },
  {
   "cell_type": "code",
   "execution_count": null,
   "metadata": {},
   "outputs": [],
   "source": [
    "# create data transformer to generate quadratic descriptors\n",
    "transformer = preprocessing.PolynomialFeatures(degree=2, include_bias=False)\n",
    "X_src = transformer.fit_transform(X)\n",
    "\n",
    "lin_reg = linear_model.LinearRegression()\n",
    "lin_reg.fit(X_src, y)"
   ]
  },
  {
   "cell_type": "markdown",
   "metadata": {},
   "source": [
    "### (Third degree) Polinomial regression to approximate noisy data\n",
    "Polinomial regression approximates well also linear and non-linear data  \n",
    "\\begin{equation*}\n",
    "y = a_2 x^3 + a_1 x^2 + a_0 x + b\n",
    "\\end{equation*}"
   ]
  },
  {
   "cell_type": "code",
   "execution_count": null,
   "metadata": {},
   "outputs": [],
   "source": [
    "# create data transformer to generate quadratic descriptors\n",
    "transformer = preprocessing.PolynomialFeatures(degree=3, include_bias=False)\n",
    "X_src = transformer.fit_transform(X)\n",
    "\n",
    "lin_reg = linear_model.LinearRegression()\n",
    "lin_reg.fit(X_src, y)"
   ]
  },
  {
   "cell_type": "markdown",
   "metadata": {},
   "source": [
    "### Use the created model to predict/approximate source data"
   ]
  },
  {
   "cell_type": "code",
   "execution_count": null,
   "metadata": {},
   "outputs": [],
   "source": [
    "y_pred = lin_reg.predict(X_src)\n",
    "\n",
    "print(\"a={0}, b={1}\".format(lin_reg.coef_, lin_reg.intercept_))\n",
    "plt.scatter(X, y)\n",
    "plt.plot(X, y_pred, 'r')\n",
    "plt.show()"
   ]
  }
 ],
 "metadata": {
  "kernelspec": {
   "display_name": "Python 3",
   "language": "python",
   "name": "python3"
  },
  "language_info": {
   "codemirror_mode": {
    "name": "ipython",
    "version": 3
   },
   "file_extension": ".py",
   "mimetype": "text/x-python",
   "name": "python",
   "nbconvert_exporter": "python",
   "pygments_lexer": "ipython3",
   "version": "3.7.5"
  }
 },
 "nbformat": 4,
 "nbformat_minor": 4
}
