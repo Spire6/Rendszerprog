{
 "cells": [
  {
   "cell_type": "markdown",
   "metadata": {},
   "source": [
    "# Sending email\n",
    "Single Mail Transfer Protocol implemented in built-in [```smtplib```](https://docs.python.org/3/library/smtplib.html) package.  \n",
    "For sending emails, a registered mailbox and a live connection to its host (mail server) is required.\n",
    "\n",
    "Emails can be sent via connetion secured with:\n",
    "- no security - plain-text\n",
    "- Secure Socket Layer\n",
    "- Transport Layer Security\n"
   ]
  },
  {
   "cell_type": "code",
   "execution_count": null,
   "metadata": {},
   "outputs": [],
   "source": [
    "import smtplib, ssl\n",
    "from email.mime.text import MIMEText\n",
    "from email.mime.multipart import MIMEMultipart"
   ]
  },
  {
   "cell_type": "code",
   "execution_count": null,
   "metadata": {},
   "outputs": [],
   "source": [
    "smtp_server = \"smtp.gmail.com\"\n",
    "port_ssl = 465\n",
    "port_tls = 587\n",
    "login = input(\"Type your login (e-mail address) and press enter: \")\n",
    "password = input(\"Type your password and press enter: \")"
   ]
  },
  {
   "cell_type": "code",
   "execution_count": 3,
   "metadata": {},
   "outputs": [],
   "source": [
    "sender_email = login\n",
    "receiver_email = input(\"Type receiver e-mail and press enter: \")\n",
    "attachment_file = \"..\\Data\\Python_tutorial.pdf\""
   ]
  },
  {
   "cell_type": "markdown",
   "metadata": {},
   "source": [
    "## Opening SSL connection"
   ]
  },
  {
   "cell_type": "code",
   "execution_count": null,
   "metadata": {},
   "outputs": [],
   "source": [
    "context = ssl.create_default_context()\n",
    "\n",
    "with smtplib.SMTP_SSL(smtp_server, port_ssl, context=context) as server:\n",
    "    server.login(login, password)\n",
    "    \n",
    "    message = get_plain_email_content_string()\n",
    "    message = get_fancy_email_contents_string()\n",
    "    \n",
    "    server.sendmail(sender_email, receiver_email, message)"
   ]
  },
  {
   "cell_type": "markdown",
   "metadata": {},
   "source": [
    "## Opening TLS connection"
   ]
  },
  {
   "cell_type": "code",
   "execution_count": null,
   "metadata": {},
   "outputs": [],
   "source": [
    "# Create a secure SSL context\n",
    "context = ssl.create_default_context()\n",
    "\n",
    "# Try to log in to server and send email\n",
    "try:\n",
    "    server = smtplib.SMTP(smtp_server, port_tls)\n",
    "    server.starttls(context=context)\n",
    "    server.login(login, password)\n",
    "    \n",
    "    message = get_plain_email_content_string()\n",
    "    message = get_fancy_email_contents_string()\n",
    "    message = get_email_with_attachment_contents_string()\n",
    "    \n",
    "    server.sendmail(sender_email, receiver_email, message)\n",
    "    \n",
    "except Exception as e:\n",
    "    print(e)\n",
    "finally:\n",
    "    server.quit() "
   ]
  },
  {
   "cell_type": "markdown",
   "metadata": {},
   "source": [
    "## Create plain text email"
   ]
  },
  {
   "cell_type": "code",
   "execution_count": 5,
   "metadata": {},
   "outputs": [],
   "source": [
    "def get_plain_email_content_string():\n",
    "    message = \"\"\"\\\n",
    "    Subject: Test from Python\n",
    "\n",
    "    This message is sent from Python.\"\"\"\n",
    "    \n",
    "    return message"
   ]
  },
  {
   "cell_type": "markdown",
   "metadata": {},
   "source": [
    "## Create e-mail with HTML contents"
   ]
  },
  {
   "cell_type": "code",
   "execution_count": 4,
   "metadata": {},
   "outputs": [],
   "source": [
    "def get_fancy_email_contents_string():\n",
    "    message = MIMEMultipart(\"alternative\")\n",
    "    message[\"Subject\"] = \"multipart test from Python\"\n",
    "    message[\"From\"] = sender_email\n",
    "    message[\"To\"] = receiver_email\n",
    "\n",
    "    # Create the plain-text content\n",
    "    text = \"\"\"\\\n",
    "    Hello there,\n",
    "    i am sending this plain text from Python\"\"\"\n",
    "\n",
    "    # Create HTML content\n",
    "    html = \"\"\"\\\n",
    "    <html>\n",
    "      <body>\n",
    "        <p>Hello there,<br>\n",
    "           i am sending this HTML text from <a href=\"https://docs.python.org/3/tutorial/\">Python</a>\n",
    "        </p>\n",
    "      </body>\n",
    "    </html>\n",
    "    \"\"\"\n",
    "\n",
    "    part1 = MIMEText(text, \"plain\")\n",
    "    part2 = MIMEText(html, \"html\")\n",
    "    \n",
    "    message.attach(part1)\n",
    "    message.attach(part2)\n",
    "    \n",
    "    return message.as_string()"
   ]
  },
  {
   "cell_type": "markdown",
   "metadata": {},
   "source": [
    "## Create e-mail with file attachment"
   ]
  },
  {
   "cell_type": "code",
   "execution_count": null,
   "metadata": {},
   "outputs": [],
   "source": [
    "def get_email_with_attachment_contents_string(file_name):\n",
    "    message = MIMEMultipart(\"alternative\")\n",
    "    message[\"Subject\"] = \"multipart test from Python\"\n",
    "    message[\"From\"] = sender_email\n",
    "    message[\"Bcc\"] = receiver_email    # recommended to hide addresses of other receivers\n",
    "\n",
    "    text = \"Test message contents sent from Python\"\n",
    "    \n",
    "    message.attach(MIMEText(text, \"plain\"))\n",
    "\n",
    "    with open(file_name, \"rb\") as attachment_file:\n",
    "        attachment = MIMEBase(\"application\", \"octet-stream\")\n",
    "        attachment.set_payload(attachment_file.read())\n",
    "\n",
    "    encoders.encode_base64(attachment)\n",
    "\n",
    "    part.add_header(\n",
    "        \"Content-Disposition\",\n",
    "        f\"attachment; filename= {file_name}\",\n",
    "    )\n",
    "\n",
    "    message.attach(part)\n",
    "    \n",
    "    return message.as_string()"
   ]
  }
 ],
 "metadata": {
  "kernelspec": {
   "display_name": "Python 3",
   "language": "python",
   "name": "python3"
  },
  "language_info": {
   "codemirror_mode": {
    "name": "ipython",
    "version": 3
   },
   "file_extension": ".py",
   "mimetype": "text/x-python",
   "name": "python",
   "nbconvert_exporter": "python",
   "pygments_lexer": "ipython3",
   "version": "3.7.5"
  }
 },
 "nbformat": 4,
 "nbformat_minor": 4
}
