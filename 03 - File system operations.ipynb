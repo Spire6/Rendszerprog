{
 "cells": [
  {
   "cell_type": "markdown",
   "metadata": {},
   "source": [
    "## Modules and components used in the section\n",
    "```python\n",
    "import os  \n",
    "import os.path  \n",
    "from os.path import isfile, join  \n",
    "```"
   ]
  },
  {
   "cell_type": "code",
   "execution_count": 1,
   "metadata": {},
   "outputs": [],
   "source": [
    "import os  \n",
    "import os.path  \n",
    "from os.path import isfile, join\n",
    "from pathlib import Path"
   ]
  },
  {
   "cell_type": "markdown",
   "metadata": {},
   "source": [
    "# Communicating with the operating system\n",
    "To send a command to the OS, use:  \n",
    "&nbsp;&nbsp;&nbsp;&nbsp;&nbsp;&nbsp;&nbsp;&nbsp;```os.system(<command string>)```  \n",
    "This function call will sends the command_string to the OS to execute in a subprocess.\n",
    "\n",
    "Exit value 0 means executed without error  \n",
    "  \n",
    "This command can not be called from jupyter notebook,  \n",
    "because executes OS command in a subprocess of the hosting web server.  \n",
    "That means, messages appear in console where notebook was started, and does not appear in the client browser  \n",
    "Furthermore usually will return with error (of RPC subsystem) input can not be collected there.  \n",
    "  \n",
    "### Command to execute in python script or console\n",
    "```python\n",
    "    os.system(\"dir\")\n",
    "    os.system(\"pause\")\n",
    "    os.system(\"date\")\n",
    "    os.system(\"echo Hello_world > greeting.txt\")\n",
    "    os.system(\"dir /p > folder_contents.txt\")\n",
    "    os.system(\"dir\")\n",
    "```\n",
    "\n",
    "Important notice about ```os.system()``` is that, command is executed in a command prompt subprocess,  \n",
    "and that is different from Windows PowerShell."
   ]
  },
  {
   "cell_type": "code",
   "execution_count": 5,
   "metadata": {},
   "outputs": [
    {
     "data": {
      "text/plain": [
       "0"
      ]
     },
     "execution_count": 5,
     "metadata": {},
     "output_type": "execute_result"
    }
   ],
   "source": [
    "os.system(\"dir /p > folder_contents.txt\")"
   ]
  },
  {
   "cell_type": "markdown",
   "metadata": {},
   "source": [
    "## Get contents of a folder "
   ]
  },
  {
   "cell_type": "code",
   "execution_count": 1,
   "metadata": {},
   "outputs": [
    {
     "name": "stdout",
     "output_type": "stream",
     "text": [
      "['.ipynb_checkpoints', '01 - Introduction.ipynb', '01_lulu.py', '02 - Procedural programming.ipynb', '02_brick_pong.py', '03 - File system operations.ipynb', '03_linear_regression.py', '04 - Handling configuration.ipynb', '05 - Regression.ipynb', 'lulu.py', 'samples_02.zip', 'SystemProgramming', '__pycache__']\n"
     ]
    }
   ],
   "source": [
    "import os\n",
    "\n",
    "path_to_search = \".\"                   # current folder\n",
    "contents = os.listdir(path_to_search)\n",
    "print(contents)"
   ]
  },
  {
   "cell_type": "markdown",
   "metadata": {},
   "source": [
    "## Print contents read earlier"
   ]
  },
  {
   "cell_type": "code",
   "execution_count": 2,
   "metadata": {
    "scrolled": true
   },
   "outputs": [
    {
     "name": "stdout",
     "output_type": "stream",
     "text": [
      ".ipynb_checkpoints\n",
      "01 - Introduction.ipynb\n",
      "01_lulu.py\n",
      "02 - Procedural programming.ipynb\n",
      "02_brick_pong.py\n",
      "03 - File system operations.ipynb\n",
      "03_linear_regression.py\n",
      "04 - Regression.ipynb\n",
      "lulu.py\n",
      "samples_01.zip\n",
      "__pycache__\n"
     ]
    }
   ],
   "source": [
    "for item in contents:\n",
    "    print(item)"
   ]
  },
  {
   "cell_type": "markdown",
   "metadata": {},
   "source": [
    "## Check if folder content is a file"
   ]
  },
  {
   "cell_type": "code",
   "execution_count": 8,
   "metadata": {
    "scrolled": true
   },
   "outputs": [
    {
     "name": "stdout",
     "output_type": "stream",
     "text": [
      ".ipynb_checkpoints, False\n",
      "01 - Introduction.ipynb, True\n",
      "01_lulu.py, True\n",
      "02 - Procedural programming.ipynb, True\n",
      "02_brick_pong.py, True\n",
      "03 - File system operations.ipynb, True\n",
      "03_linear_regression.py, True\n",
      "04 - Regression.ipynb, True\n",
      "lulu.py, True\n",
      "samples_01.zip, True\n",
      "__pycache__, False\n"
     ]
    }
   ],
   "source": [
    "import os.path\n",
    "for item in contents:\n",
    "    is_file = os.path.isfile(os.path.join(path_to_search, item))\n",
    "    print(f\"{item}, {is_file}\")"
   ]
  },
  {
   "cell_type": "markdown",
   "metadata": {},
   "source": [
    "## Filter contents to get list of files"
   ]
  },
  {
   "cell_type": "code",
   "execution_count": 4,
   "metadata": {},
   "outputs": [
    {
     "name": "stdout",
     "output_type": "stream",
     "text": [
      "['01 - Introduction.ipynb', '01_lulu.py', '02 - Procedural programming.ipynb', '02_brick_pong.py', '03 - File system operations.ipynb', '03_linear_regression.py', '04 - Regression.ipynb', 'lulu.py', 'samples_01.zip']\n"
     ]
    }
   ],
   "source": [
    "from os.path import isfile, join\n",
    "files_only = [item for item in contents if isfile(join(path_to_search, item))]\n",
    "print(files_only)"
   ]
  },
  {
   "cell_type": "markdown",
   "metadata": {},
   "source": [
    "### Create filtered list\n",
    "\n",
    "\\[item ```for``` item ```in``` item_collection ```if``` &lt;condition&gt;\\]"
   ]
  },
  {
   "cell_type": "markdown",
   "metadata": {},
   "source": [
    "## Write file names into a text file"
   ]
  },
  {
   "cell_type": "code",
   "execution_count": 3,
   "metadata": {},
   "outputs": [],
   "source": [
    "output_file_name = \"files.txt\""
   ]
  },
  {
   "cell_type": "code",
   "execution_count": 5,
   "metadata": {},
   "outputs": [],
   "source": [
    "file = open(output_file_name, \"w\") \n",
    " \n",
    "for item in files_only:\n",
    "    file.write(item)\n",
    "    file.write(\"\\n\")\n",
    " \n",
    "file.close() "
   ]
  },
  {
   "cell_type": "markdown",
   "metadata": {},
   "source": [
    "# Create a method to get and print folder contents"
   ]
  },
  {
   "cell_type": "code",
   "execution_count": 9,
   "metadata": {},
   "outputs": [],
   "source": [
    "def get_files_of_folder(path_to_search):\n",
    "    contents = os.listdir(path_to_search)\n",
    "    files_only = [item for item in contents if isfile(join(path_to_search, item))]\n",
    "    for item in files_only:\n",
    "        print(item)\n",
    "    return files_only"
   ]
  },
  {
   "cell_type": "markdown",
   "metadata": {},
   "source": [
    "## Call the new method to get contents"
   ]
  },
  {
   "cell_type": "code",
   "execution_count": 10,
   "metadata": {},
   "outputs": [
    {
     "name": "stdout",
     "output_type": "stream",
     "text": [
      "01 - Introduction.ipynb\n",
      "01_lulu.py\n",
      "02 - Procedural programming.ipynb\n",
      "02_brick_pong.py\n",
      "03 - File system operations.ipynb\n",
      "03_linear_regression.py\n",
      "04 - Regression.ipynb\n",
      "files.txt\n",
      "lulu.py\n",
      "samples_01.zip\n"
     ]
    }
   ],
   "source": [
    "contents = get_files_of_folder(path_to_search)"
   ]
  },
  {
   "cell_type": "markdown",
   "metadata": {},
   "source": [
    "## Create method to save content list"
   ]
  },
  {
   "cell_type": "code",
   "execution_count": 11,
   "metadata": {},
   "outputs": [],
   "source": [
    "def save_content_list(output_file, file_list):\n",
    "    file = open(output_file_name, \"w\") \n",
    " \n",
    "    for item in file_list:\n",
    "        file.write(item)\n",
    "        file.write(\"\\n\")\n",
    "\n",
    "    file.close() "
   ]
  },
  {
   "cell_type": "markdown",
   "metadata": {},
   "source": [
    "# Get and save contents of a folder"
   ]
  },
  {
   "cell_type": "code",
   "execution_count": 30,
   "metadata": {
    "scrolled": true
   },
   "outputs": [
    {
     "name": "stdout",
     "output_type": "stream",
     "text": [
      "bootmgr\n",
      "BOOTNXT\n",
      "bootTel.dat\n",
      "hiberfil.sys\n",
      "pagefile.sys\n",
      "swapfile.sys\n"
     ]
    }
   ],
   "source": [
    "save_content_list(output_file_name, get_files_of_folder(path_to_search))"
   ]
  },
  {
   "cell_type": "markdown",
   "metadata": {},
   "source": [
    "## Check if content list is saved"
   ]
  },
  {
   "cell_type": "code",
   "execution_count": 12,
   "metadata": {},
   "outputs": [
    {
     "name": "stdout",
     "output_type": "stream",
     "text": [
      "01 - Introduction.ipynb\n",
      "01_lulu.py\n",
      "02 - Procedural programming.ipynb\n",
      "02_brick_pong.py\n",
      "03 - File system operations.ipynb\n",
      "03_linear_regression.py\n",
      "04 - Regression.ipynb\n",
      "files.txt\n",
      "lulu.py\n",
      "samples_01.zip\n",
      "\n",
      "Contents Saved\n"
     ]
    }
   ],
   "source": [
    "local_contents = get_files_of_folder(\".\")\n",
    "print(\"\\nContents Saved\" if output_file_name in local_contents else \"\\nContents Not saved\")"
   ]
  },
  {
   "cell_type": "markdown",
   "metadata": {},
   "source": [
    "# Reading text file\n",
    "1. open  \n",
    "&nbsp;&nbsp;&nbsp;&nbsp;```file = open(<file_name>, \"r\")```\n",
    "2. read\n",
    "    - ```file.read([count])```\n",
    "    - ```file.readline([count])```\n",
    "    - ```file.readlines()```\n",
    "    - ```for line in file:```\n",
    "3. close  \n",
    "&nbsp;&nbsp;&nbsp;&nbsp;```file.close()```  \n",
    "  \n",
    "  \n",
    "Or read all contents using ```pathlib.Path```:\n",
    "  \n",
    "```text_document = pathlib.Path(<file_name>).read_text()```\n",
    "  \n",
    "Or use ```with``` keyword to release resource if not needed.  \n",
    "```python\n",
    "with open(<file_name>, \"r\") as file:\n",
    "    contents = file.readlines()\n",
    "```"
   ]
  },
  {
   "cell_type": "code",
   "execution_count": 4,
   "metadata": {},
   "outputs": [
    {
     "name": "stdout",
     "output_type": "stream",
     "text": [
      "Saved contents:\n",
      "01 - Introduction.ipynb01_lulu.py02 - Procedural programming.ipynb02_brick_pong.py03 - File system operations.ipynb03_linear_regression.py04 - Regression.ipynblulu.pysamples_01.zip\n"
     ]
    }
   ],
   "source": [
    "file = open(output_file_name, \"r\")\n",
    "print(\"Saved contents:\")\n",
    "for line in file:\n",
    "    print(line)\n",
    "file.close()"
   ]
  },
  {
   "cell_type": "code",
   "execution_count": 13,
   "metadata": {},
   "outputs": [
    {
     "ename": "FileNotFoundError",
     "evalue": "[Errno 2] No such file or directory: '.\\\\source_file.txt'",
     "output_type": "error",
     "traceback": [
      "\u001b[1;31m---------------------------------------------------------------------------\u001b[0m",
      "\u001b[1;31mFileNotFoundError\u001b[0m                         Traceback (most recent call last)",
      "\u001b[1;32m<ipython-input-13-996a8ca4a0a3>\u001b[0m in \u001b[0;36m<module>\u001b[1;34m\u001b[0m\n\u001b[0;32m      1\u001b[0m \u001b[0msource_file_name\u001b[0m \u001b[1;33m=\u001b[0m \u001b[1;34m\"source_file.txt\"\u001b[0m\u001b[1;33m\u001b[0m\u001b[0m\n\u001b[0;32m      2\u001b[0m \u001b[0mfull_path_with_name\u001b[0m \u001b[1;33m=\u001b[0m \u001b[0mjoin\u001b[0m\u001b[1;33m(\u001b[0m\u001b[0mpath_to_search\u001b[0m\u001b[1;33m,\u001b[0m \u001b[0msource_file_name\u001b[0m\u001b[1;33m)\u001b[0m\u001b[1;33m\u001b[0m\u001b[0m\n\u001b[1;32m----> 3\u001b[1;33m \u001b[0mfile\u001b[0m \u001b[1;33m=\u001b[0m \u001b[0mopen\u001b[0m\u001b[1;33m(\u001b[0m\u001b[0mfull_path_with_name\u001b[0m\u001b[1;33m)\u001b[0m\u001b[1;33m\u001b[0m\u001b[0m\n\u001b[0m\u001b[0;32m      4\u001b[0m \u001b[1;32mfor\u001b[0m \u001b[0mline\u001b[0m \u001b[1;32min\u001b[0m \u001b[0mfile\u001b[0m\u001b[1;33m:\u001b[0m\u001b[1;33m\u001b[0m\u001b[0m\n\u001b[0;32m      5\u001b[0m     \u001b[0mprint\u001b[0m\u001b[1;33m(\u001b[0m\u001b[0mline\u001b[0m\u001b[1;33m)\u001b[0m\u001b[1;33m\u001b[0m\u001b[0m\n",
      "\u001b[1;31mFileNotFoundError\u001b[0m: [Errno 2] No such file or directory: '.\\\\source_file.txt'"
     ]
    }
   ],
   "source": [
    "source_file_name = \"source_file.txt\"\n",
    "full_path_with_name = join(path_to_search, source_file_name)\n",
    "file = open(full_path_with_name)\n",
    "for line in file:\n",
    "    print(line)\n",
    "file.close()"
   ]
  },
  {
   "cell_type": "markdown",
   "metadata": {},
   "source": [
    "# Exception handling\n",
    "Exceptions\n",
    "- are errors in program execution\n",
    "- different from syntax errors\n",
    "- have to handled\n",
    "- if not handled, (as seen above) kernel terminates script execution  \n",
    "  \n",
    "### Handling exception type and using exception object\n",
    "```python\n",
    "try:\n",
    "    <script to execute with exception handling>\n",
    "except <exception_type_A> [as <exception_object>]:\n",
    "    <operations on exception>\n",
    "[except <exception_type_B> [as <exception_object>]:]\n",
    "    <operations on exception_type_B>\n",
    "```"
   ]
  },
  {
   "cell_type": "code",
   "execution_count": 11,
   "metadata": {},
   "outputs": [
    {
     "name": "stdout",
     "output_type": "stream",
     "text": [
      "Could not find file.\n",
      "[Errno 2] No such file or directory: '.\\\\source_file.txt'\n"
     ]
    }
   ],
   "source": [
    "try:\n",
    "    source_file_name = \"source_file.txt\"\n",
    "    full_path_with_name = join(path_to_search, source_file_name)\n",
    "    file = open(full_path_with_name)\n",
    "    for line in file:\n",
    "        print(line)\n",
    "    file.close()\n",
    "except FileNotFoundError as err:\n",
    "    print(\"Could not find file.\\n{0}\".format(err))"
   ]
  },
  {
   "cell_type": "markdown",
   "metadata": {},
   "source": [
    "## Handling all exceptions (think twice!!!)\n",
    "```python\n",
    "try:\n",
    "    <script to execute with exception handling>\n",
    "except:\n",
    "    <operations on exception>\n",
    "    raise   #re-raising the exception\n",
    "```"
   ]
  },
  {
   "cell_type": "markdown",
   "metadata": {},
   "source": [
    "## Getting valid user input\n",
    "In the end of section 01 - Inroduction, we tried to get a number from user input.  \n",
    "If the user entered invalid input, an exception was raised.  \n",
    "No we can hanle exceptions to get a valid input (valid integer number) from the user."
   ]
  },
  {
   "cell_type": "code",
   "execution_count": 14,
   "metadata": {},
   "outputs": [
    {
     "name": "stdout",
     "output_type": "stream",
     "text": [
      "Please enter an integer: fdsg\n",
      "Please try again!\n",
      "Please enter an integer: fdsg\n",
      "Please try again!\n",
      "Please enter an integer: 45\n",
      "45\n"
     ]
    }
   ],
   "source": [
    "valid_input = False\n",
    "while not valid_input:\n",
    "    try:\n",
    "        u = int(input(\"Please enter an integer: \"))\n",
    "        valid_input = True\n",
    "    except ValueError:\n",
    "        print(\"Please try again!\")\n",
    "print(u)"
   ]
  }
 ],
 "metadata": {
  "kernelspec": {
   "display_name": "Python 3",
   "language": "python",
   "name": "python3"
  },
  "language_info": {
   "codemirror_mode": {
    "name": "ipython",
    "version": 3
   },
   "file_extension": ".py",
   "mimetype": "text/x-python",
   "name": "python",
   "nbconvert_exporter": "python",
   "pygments_lexer": "ipython3",
   "version": "3.7.0"
  }
 },
 "nbformat": 4,
 "nbformat_minor": 4
}
