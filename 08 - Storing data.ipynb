{
 "cells": [
  {
   "cell_type": "markdown",
   "metadata": {},
   "source": [
    "# Storing data\n",
    "Data can be stored in memory in a structure of python objects (collection types).  \n",
    "But processing data stored can be:\n",
    "- hard, because different viewpoints would require different sort orders  \n",
    "- dangerous, because on any system failure, all gathered data can disappear\n",
    "  \n",
    "Data have to be persisted!  \n",
    "- known method: persist data in files with specific format  \n",
    "  if done so:\n",
    "    - text processing (coding/decoding) takes time\n",
    "    - all data has to be stored in memory\n",
    "    - no solution for using different sort orders at hte same time\n",
    "- proposed method: database (relational)  \n",
    "  if done so:  \n",
    "    - a database server is responsible for storing, sorting and retrieving information\n",
    "    - using multiple sort criteria is supported, even at the same time\n",
    "    - data and index storage, even maintenance algoritms are nearly optimal\n",
    "    - from connection point, does not matter if the database server is a **remote or local**\n",
    "  \n",
    "          \n",
    "## [SQLite database](https://www.sqlite.org/index.html)\n",
    "SQLite is a C-language library that implements a **small, fast, self-contained, high-reliability, full-featured** SQL database engine.  \n",
    "  \n",
    "The SQLite file format is stable, cross-platform, and backwards compatible.  \n",
    "SQLite database files are commonly used as:\n",
    "- mobile/cross platform database engine\n",
    "- containers to transfer rich content between systems\n",
    "- a long-term archival format for data\n"
   ]
  },
  {
   "cell_type": "code",
   "execution_count": 1,
   "metadata": {},
   "outputs": [],
   "source": [
    "import sqlite3"
   ]
  },
  {
   "cell_type": "markdown",
   "metadata": {},
   "source": [
    "### Creating database file"
   ]
  },
  {
   "cell_type": "markdown",
   "metadata": {},
   "source": [
    "#### Database connection management:\n",
    "1. Connecting to database\n",
    "    - Creating database file if does not exist"
   ]
  },
  {
   "cell_type": "code",
   "execution_count": 2,
   "metadata": {},
   "outputs": [],
   "source": [
    "database_file_name = \"..\\\\Data\\\\first.db\""
   ]
  },
  {
   "cell_type": "code",
   "execution_count": 4,
   "metadata": {},
   "outputs": [],
   "source": [
    "connection = sqlite3.connect(database_file_name)\n",
    "print(conneciton)"
   ]
  },
  {
   "cell_type": "markdown",
   "metadata": {},
   "source": [
    "### Creating database structure"
   ]
  },
  {
   "cell_type": "code",
   "execution_count": 12,
   "metadata": {},
   "outputs": [],
   "source": [
    "sql_statement = \"\"\"CREATE TABLE IF NOT EXISTS first_table (\n",
    "                                            id integer PRIMARY KEY,\n",
    "                                            string_data text NOT NULL UNIQUE,\n",
    "                                            numeric_data integer NOT NULL\n",
    "                                        );\"\"\""
   ]
  },
  {
   "cell_type": "code",
   "execution_count": null,
   "metadata": {},
   "outputs": [],
   "source": [
    "sql_statement = '''CREATE UNIQUE INDEX unique_item ON log_entry(string_data, numeric_data);'''"
   ]
  },
  {
   "cell_type": "markdown",
   "metadata": {},
   "source": [
    "### Filling up database"
   ]
  },
  {
   "cell_type": "code",
   "execution_count": 14,
   "metadata": {},
   "outputs": [],
   "source": [
    "sql_statement = '''INSERT INTO first_table \n",
    "                    (string_data, numeric_data) \n",
    "                    VALUES (?, ?);'''"
   ]
  },
  {
   "cell_type": "code",
   "execution_count": 15,
   "metadata": {},
   "outputs": [],
   "source": [
    "parameters = ['Alice', 123]"
   ]
  },
  {
   "cell_type": "code",
   "execution_count": null,
   "metadata": {},
   "outputs": [],
   "source": [
    "parameters = ['Bob', 456]"
   ]
  },
  {
   "cell_type": "code",
   "execution_count": null,
   "metadata": {},
   "outputs": [],
   "source": [
    "parameters = ['Eve', 789]"
   ]
  },
  {
   "cell_type": "markdown",
   "metadata": {},
   "source": [
    "### Getting data from database"
   ]
  },
  {
   "cell_type": "code",
   "execution_count": 17,
   "metadata": {},
   "outputs": [],
   "source": [
    "sql_statement = '''SELECT * FROM first_table;'''"
   ]
  },
  {
   "cell_type": "code",
   "execution_count": null,
   "metadata": {},
   "outputs": [],
   "source": [
    "sql_statement = '''SELECT * FROM first_table WHERE string_data like ?;'''"
   ]
  },
  {
   "cell_type": "code",
   "execution_count": null,
   "metadata": {},
   "outputs": [],
   "source": [
    "parameters = [\"%a%\"]"
   ]
  },
  {
   "cell_type": "code",
   "execution_count": null,
   "metadata": {},
   "outputs": [],
   "source": [
    "sql_statement = '''UPDATE first_table SET\n",
    "                            string_data=?, \n",
    "                            numeric_data=?\n",
    "                            WHERE id=?;'''"
   ]
  },
  {
   "cell_type": "markdown",
   "metadata": {},
   "source": [
    "### Creating a cursor to **execute a command** and get its results"
   ]
  },
  {
   "cell_type": "code",
   "execution_count": 8,
   "metadata": {},
   "outputs": [
    {
     "name": "stdout",
     "output_type": "stream",
     "text": [
      "<sqlite3.Cursor object at 0x010D5520>\n"
     ]
    }
   ],
   "source": [
    "cursor = connection.cursor()\n",
    "print(cursor)"
   ]
  },
  {
   "cell_type": "code",
   "execution_count": 18,
   "metadata": {},
   "outputs": [
    {
     "name": "stdout",
     "output_type": "stream",
     "text": [
      "<sqlite3.Cursor object at 0x010D5520>\n"
     ]
    }
   ],
   "source": [
    "cursor.execute(sql_statement)"
   ]
  },
  {
   "cell_type": "code",
   "execution_count": 16,
   "metadata": {},
   "outputs": [
    {
     "data": {
      "text/plain": [
       "<sqlite3.Cursor at 0x10d5520>"
      ]
     },
     "execution_count": 16,
     "metadata": {},
     "output_type": "execute_result"
    }
   ],
   "source": [
    "cursor.execute(sql_statement, parameters)\n",
    "print(cursor.lastrowid)"
   ]
  },
  {
   "cell_type": "code",
   "execution_count": 19,
   "metadata": {},
   "outputs": [
    {
     "name": "stdout",
     "output_type": "stream",
     "text": [
      "[(1, 'Alice', 123)]\n"
     ]
    }
   ],
   "source": [
    "print(cursor.fetchall())"
   ]
  },
  {
   "cell_type": "markdown",
   "metadata": {},
   "source": [
    "### Commit database changes. \n",
    "Otherwise all changed data will be lost."
   ]
  },
  {
   "cell_type": "code",
   "execution_count": 21,
   "metadata": {},
   "outputs": [],
   "source": [
    "connection.commit()"
   ]
  },
  {
   "cell_type": "markdown",
   "metadata": {},
   "source": [
    "### Closing database connection to release resources"
   ]
  },
  {
   "cell_type": "code",
   "execution_count": 22,
   "metadata": {},
   "outputs": [],
   "source": [
    "connection.close()"
   ]
  },
  {
   "cell_type": "markdown",
   "metadata": {},
   "source": [
    "## ORM\n",
    "Object-Relational Mapping is a programming technique for:\n",
    "- converting data between incompatible type systems\n",
    "- converting data between incompatible logical representations\n",
    "- creates, a \"virtual object database\" that can be used from within the programming language. \n",
    "  \n",
    "Python [Implementations](https://www.fullstackpython.com/object-relational-mappers-orms.html):\n",
    "- SQLAlchemy\n",
    "- Peewee\n",
    "- The Django ORM\n",
    "- PonyORM\n",
    "- SQLObject\n",
    "- Tortoise ORM"
   ]
  },
  {
   "cell_type": "markdown",
   "metadata": {},
   "source": [
    "## Reflection  \n",
    "In object oriented programming, reflection a tool which helps program components go get information about the structure of an instance (sometimes themselves)\n",
    "### ```dir``` method  \n",
    "The ```dir()``` returns a list of valid attributes of the object given as a method parameter.\n",
    "### ```getattr()``` method\n",
    "The ```getattr()``` method returns the **value** of the named attribute of an object.  \n",
    "If not found, it returns the default value provided to the function.\n",
    "  \n",
    "The ```getattr()``` method parameters:\n",
    "1. object\n",
    "2. attribute name\n",
    "3. default value (optional) if attribute has not been found\n",
    "\n",
    "```python\n",
    "employee = Employee()\n",
    "employee.salary = 234000\n",
    "current_salary = getattr(employee, \"salary\", 161000)\n",
    "```\n",
    "### ```setattr()``` method\n",
    "The ```setattr()``` method sets the **value** of the named attribute of an object.  \n",
    "   \n",
    "The ```setattr()``` method parameters:\n",
    "1. object\n",
    "2. attribute name\n",
    "3. new value\n",
    "  \n",
    "```python\n",
    "employee = Employee()\n",
    "getattr(employee, \"salary\", 500000)\n",
    "```  \n",
    "### Reflect methods of objects\n",
    "Object methods are indeed attributes which store method references.  \n",
    "Using ```getattr()``` the method reference can be accessed.\n",
    "#### ```callable()``` method\n",
    "Returns a boolean value representing if the given function reference is callable on an instance\n",
    "#### Getting components of object\n",
    "```python\n",
    "object_properties = [\n",
    "    property_name \n",
    "    for property_name in dir(object) \n",
    "    if not callable(getattr(object, property_name))\n",
    "]\n",
    "\n",
    "object_methods = [\n",
    "    method_name \n",
    "    for method_name in dir(object) \n",
    "    if callable(getattr(object, method_name))\n",
    "]\n",
    "\n",
    "# to exclude protected and private members, use additional clauses\n",
    "not property_name.startswith(\"_\")\n",
    "# or\n",
    "not method_name.startswith(\"_\")\n",
    "\n",
    "```"
   ]
  }
 ],
 "metadata": {
  "kernelspec": {
   "display_name": "Python 3",
   "language": "python",
   "name": "python3"
  },
  "language_info": {
   "codemirror_mode": {
    "name": "ipython",
    "version": 3
   },
   "file_extension": ".py",
   "mimetype": "text/x-python",
   "name": "python",
   "nbconvert_exporter": "python",
   "pygments_lexer": "ipython3",
   "version": "3.7.5"
  }
 },
 "nbformat": 4,
 "nbformat_minor": 4
}
