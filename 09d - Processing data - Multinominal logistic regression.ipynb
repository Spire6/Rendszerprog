{
 "cells": [
  {
   "cell_type": "markdown",
   "metadata": {},
   "source": [
    "# Multinominal logistic regression  \n",
    "For supervised classification of 3 classes based on 4 properties"
   ]
  },
  {
   "cell_type": "markdown",
   "metadata": {},
   "source": [
    "## Data set\n",
    "[UCI Iris dataset](https://archive.ics.uci.edu/ml/datasets/iris)\n",
    "\n",
    "Contains 3 classes of Iris flowers with data:\n",
    "   1. sepal length in cm\n",
    "   2. sepal width in cm\n",
    "   3. petal length in cm\n",
    "   4. petal width in cm\n",
    "   5. class: \n",
    "      - Iris Setosa\n",
    "      - Iris Versicolour\n",
    "      - Iris Virginica\n",
    "\n",
    "Example data:  \n",
    "```\n",
    "5.1,3.5,1.4,0.2,Iris-setosa  \n",
    "4.9,3.0,1.4,0.2,Iris-setosa  \n",
    "4.7,3.2,1.3,0.2,Iris-setosa  \n",
    "6.0,2.2,4.0,1.0,Iris-versicolor  \n",
    "6.1,2.9,4.7,1.4,Iris-versicolor  \n",
    "5.6,2.9,3.6,1.3,Iris-versicolor  \n",
    "6.7,3.1,4.4,1.4,Iris-versicolor  \n",
    "6.4,2.7,5.3,1.9,Iris-virginica  \n",
    "6.8,3.0,5.5,2.1,Iris-virginica  \n",
    "5.7,2.5,5.0,2.0,Iris-virginica  \n",
    "5.8,2.8,5.1,2.4,Iris-virginica  \n",
    "```"
   ]
  },
  {
   "cell_type": "markdown",
   "metadata": {},
   "source": [
    "## For reading file containing comma separated values\n",
    "- Custom readed can be created\n",
    "- Pandas package can be installed, imported and used"
   ]
  },
  {
   "cell_type": "markdown",
   "metadata": {},
   "source": [
    "### Installing Pandas"
   ]
  },
  {
   "cell_type": "code",
   "execution_count": 3,
   "metadata": {},
   "outputs": [
    {
     "name": "stdout",
     "output_type": "stream",
     "text": [
      "c:\\python\\python37\\python.exe\n"
     ]
    }
   ],
   "source": [
    "import sys\n",
    "print(sys.executable)"
   ]
  },
  {
   "cell_type": "code",
   "execution_count": 4,
   "metadata": {},
   "outputs": [
    {
     "name": "stdout",
     "output_type": "stream",
     "text": [
      "Collecting pandas\n",
      "  Using cached pandas-1.0.1-cp37-cp37m-win_amd64.whl (9.0 MB)\n",
      "Requirement already satisfied: python-dateutil>=2.6.1 in c:\\python\\python37\\lib\\site-packages (from pandas) (2.8.1)\n",
      "Collecting pytz>=2017.2\n",
      "  Using cached pytz-2019.3-py2.py3-none-any.whl (509 kB)\n",
      "Requirement already satisfied: numpy>=1.13.3 in c:\\python\\python37\\lib\\site-packages (from pandas) (1.18.1)\n",
      "Requirement already satisfied: six>=1.5 in c:\\python\\python37\\lib\\site-packages (from python-dateutil>=2.6.1->pandas) (1.14.0)\n",
      "Installing collected packages: pytz, pandas\n",
      "Successfully installed pandas-1.0.1 pytz-2019.3\n"
     ]
    }
   ],
   "source": [
    "!{sys.executable} -m pip install pandas"
   ]
  },
  {
   "cell_type": "markdown",
   "metadata": {},
   "source": [
    "## Installing required modules"
   ]
  },
  {
   "cell_type": "code",
   "execution_count": 5,
   "metadata": {},
   "outputs": [],
   "source": [
    "import numpy as np\n",
    "import pandas as pd\n",
    "\n",
    "from sklearn import linear_model\n",
    "from sklearn import metrics\n",
    "from sklearn.model_selection import train_test_split"
   ]
  },
  {
   "cell_type": "markdown",
   "metadata": {},
   "source": [
    "## Reading and formatting data"
   ]
  },
  {
   "cell_type": "code",
   "execution_count": null,
   "metadata": {},
   "outputs": [],
   "source": [
    "col_names = ['sepal length', 'sepal width', 'petal length', 'petal width', 'label']\n",
    "\n",
    "# !!!!!!!!!! set data file path!\n",
    "iris = pd.read_csv(\"..\\Data\\iris.data\", header=None, names=col_names)"
   ]
  },
  {
   "cell_type": "markdown",
   "metadata": {},
   "source": [
    "## Create train and test data sets"
   ]
  },
  {
   "cell_type": "code",
   "execution_count": null,
   "metadata": {},
   "outputs": [],
   "source": [
    "attribute_cols = ['sepal length', 'sepal width', 'petal length', 'petal width']\n",
    "X = iris[attribute_cols]\n",
    "y = iris.label\n",
    "X_train, X_test, y_train, y_test = train_test_split(X, y, test_size=0.2, stratify=y)"
   ]
  },
  {
   "cell_type": "markdown",
   "metadata": {},
   "source": [
    "## Create and train the classifier"
   ]
  },
  {
   "cell_type": "code",
   "execution_count": null,
   "metadata": {},
   "outputs": [],
   "source": [
    "classifier = linear_model.LogisticRegression(solver='lbfgs', multi_class='multinomial')\n",
    "classifier.fit(X, y)\n",
    "print(\"Learning accuracy: {0:.2f}%\".format(classifier.score(X, y) * 100))"
   ]
  },
  {
   "cell_type": "markdown",
   "metadata": {},
   "source": [
    "## Create a prediction and evalueate classifier"
   ]
  },
  {
   "cell_type": "code",
   "execution_count": 10,
   "metadata": {},
   "outputs": [
    {
     "name": "stdout",
     "output_type": "stream",
     "text": [
      "Learning accuracy: 97.33%\n",
      "Classification accuracy: 96.67%\n"
     ]
    }
   ],
   "source": [
    "y_pred = classifier.predict(X_test)\n",
    "accuracy = metrics.accuracy_score(y_test, y_pred)\n",
    "print(\"Classification accuracy: {0:.2f}%\".format(accuracy * 100))"
   ]
  }
 ],
 "metadata": {
  "kernelspec": {
   "display_name": "Python 3",
   "language": "python",
   "name": "python3"
  },
  "language_info": {
   "codemirror_mode": {
    "name": "ipython",
    "version": 3
   },
   "file_extension": ".py",
   "mimetype": "text/x-python",
   "name": "python",
   "nbconvert_exporter": "python",
   "pygments_lexer": "ipython3",
   "version": "3.7.5"
  }
 },
 "nbformat": 4,
 "nbformat_minor": 4
}
