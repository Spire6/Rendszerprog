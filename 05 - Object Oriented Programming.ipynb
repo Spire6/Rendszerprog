{
 "cells": [
  {
   "cell_type": "markdown",
   "metadata": {},
   "source": [
    "# Object Oriented Programming (OOP)\n",
    "\n",
    "  \n",
    "Principals:  \n",
    "- encapsulation - lock logically related data and their methods into a single unit to reuse safely\n",
    "- inheritance - extend previously created units\n",
    "- polymorphism - change behaviours of previously created units, to make them more specific"
   ]
  },
  {
   "cell_type": "markdown",
   "metadata": {},
   "source": [
    "# Object Oriented Programming' code in Python  \n",
    "Python script is interpreted, not compiled, therefore **NO** close relation in between lines. If so, you can do whatever you want!  \n",
    "\n",
    "![alt text](18+.jpg \"Adults only\")  \n",
    "\n",
    "### <center>OOP pricipals are more like what you call guidelines, than actual a rules!</center>  "
   ]
  },
  {
   "cell_type": "markdown",
   "metadata": {},
   "source": [
    "## Encapsulation\n",
    "### Creating a class\n",
    "1. To create a class in a new file, use ```class``` keyword.  \n",
    "2. Instance methods has ```self``` first parameter to access instance members.  \n",
    "3. Data members are defined on initialization in ```Constructor: __init__```\n",
    "    - two underscores as prefix AND suffix of method name\n",
    "    - data members are referenced via ```self``` parameter\n",
    "  \n",
    "Example:\n",
    "```Python\n",
    "class MyClass:  \n",
    "    \n",
    "    def __init__(self, initial_value):\n",
    "        self.data_member = initial_value\n",
    "        \n",
    "    def instance_method(self):\n",
    "        print(\"instance state: \", self.data_member)\n",
    "```"
   ]
  },
  {
   "cell_type": "markdown",
   "metadata": {},
   "source": [
    "### Visibility/Accessibility modifiers\n",
    "Levele of restriction is set by number of underscores '_' as name prefix.  \n",
    "- no underscore: public\n",
    "- one underscore: protected\n",
    "- two underscores: private"
   ]
  },
  {
   "cell_type": "code",
   "execution_count": 1,
   "metadata": {},
   "outputs": [],
   "source": [
    "class MyClass:  \n",
    "    \n",
    "    def __init__(self, initial_value):\n",
    "        self.public_data_member = initial_value\n",
    "        self._protected_data_member = initial_value * 2\n",
    "        self.__private_data_member = initial_value * 3\n",
    "        \n",
    "    def public_method(self):\n",
    "        print(\"public instance method has been called \", self.public_data_member)\n",
    "\n",
    "    def _protected_method(self):\n",
    "        print(\"protected instance method has been called \", self._protected_data_member)\n",
    "\n",
    "    def __private_method(self):\n",
    "        print(\"private instance method has been called \", self.__private_data_member)"
   ]
  },
  {
   "cell_type": "markdown",
   "metadata": {},
   "source": [
    "## Instantiation of object\n",
    "No ```new``` keyword is required, only the class name and constructor parameters.  "
   ]
  },
  {
   "cell_type": "code",
   "execution_count": 3,
   "metadata": {},
   "outputs": [],
   "source": [
    "my_object = MyClass(4)"
   ]
  },
  {
   "cell_type": "markdown",
   "metadata": {},
   "source": [
    "### Visibility/Accessibility modifiers - in reality  \n",
    "What happens when trying to access class members:  "
   ]
  },
  {
   "cell_type": "code",
   "execution_count": 8,
   "metadata": {},
   "outputs": [
    {
     "name": "stdout",
     "output_type": "stream",
     "text": [
      "4\n",
      "8\n"
     ]
    },
    {
     "ename": "AttributeError",
     "evalue": "'MyClass' object has no attribute '__private_data_member'",
     "output_type": "error",
     "traceback": [
      "\u001b[1;31m---------------------------------------------------------------------------\u001b[0m",
      "\u001b[1;31mAttributeError\u001b[0m                            Traceback (most recent call last)",
      "\u001b[1;32m<ipython-input-8-e7ded7de28ae>\u001b[0m in \u001b[0;36m<module>\u001b[1;34m\u001b[0m\n\u001b[0;32m      1\u001b[0m \u001b[0mprint\u001b[0m\u001b[1;33m(\u001b[0m\u001b[0mmy_object\u001b[0m\u001b[1;33m.\u001b[0m\u001b[0mpublic_data_member\u001b[0m\u001b[1;33m)\u001b[0m\u001b[1;33m\u001b[0m\u001b[1;33m\u001b[0m\u001b[0m\n\u001b[0;32m      2\u001b[0m \u001b[0mprint\u001b[0m\u001b[1;33m(\u001b[0m\u001b[0mmy_object\u001b[0m\u001b[1;33m.\u001b[0m\u001b[0m_protected_data_member\u001b[0m\u001b[1;33m)\u001b[0m\u001b[1;33m\u001b[0m\u001b[1;33m\u001b[0m\u001b[0m\n\u001b[1;32m----> 3\u001b[1;33m \u001b[0mprint\u001b[0m\u001b[1;33m(\u001b[0m\u001b[0mmy_object\u001b[0m\u001b[1;33m.\u001b[0m\u001b[0m__private_data_member\u001b[0m\u001b[1;33m)\u001b[0m\u001b[1;33m\u001b[0m\u001b[1;33m\u001b[0m\u001b[0m\n\u001b[0m\u001b[0;32m      4\u001b[0m \u001b[0mprint\u001b[0m\u001b[1;33m(\u001b[0m\u001b[0mmy_object\u001b[0m\u001b[1;33m.\u001b[0m\u001b[0m_MyClass__private_data_member\u001b[0m\u001b[1;33m)\u001b[0m\u001b[1;33m\u001b[0m\u001b[1;33m\u001b[0m\u001b[0m\n",
      "\u001b[1;31mAttributeError\u001b[0m: 'MyClass' object has no attribute '__private_data_member'"
     ]
    }
   ],
   "source": [
    "print(my_object.public_data_member)\n",
    "print(my_object._protected_data_member)\n",
    "print(my_object.__private_data_member)"
   ]
  },
  {
   "cell_type": "code",
   "execution_count": 4,
   "metadata": {},
   "outputs": [
    {
     "name": "stdout",
     "output_type": "stream",
     "text": [
      "public instance method has been called  4\n",
      "protected instance method has been called  8\n"
     ]
    },
    {
     "ename": "AttributeError",
     "evalue": "'MyClass' object has no attribute '__private_method'",
     "output_type": "error",
     "traceback": [
      "\u001b[1;31m---------------------------------------------------------------------------\u001b[0m",
      "\u001b[1;31mAttributeError\u001b[0m                            Traceback (most recent call last)",
      "\u001b[1;32m<ipython-input-4-0969bb4402d5>\u001b[0m in \u001b[0;36m<module>\u001b[1;34m\u001b[0m\n\u001b[0;32m      1\u001b[0m \u001b[0mmy_object\u001b[0m\u001b[1;33m.\u001b[0m\u001b[0mpublic_method\u001b[0m\u001b[1;33m(\u001b[0m\u001b[1;33m)\u001b[0m        \u001b[1;31m# output: public instance method has been called\u001b[0m\u001b[1;33m\u001b[0m\u001b[1;33m\u001b[0m\u001b[0m\n\u001b[0;32m      2\u001b[0m \u001b[0mmy_object\u001b[0m\u001b[1;33m.\u001b[0m\u001b[0m_protected_method\u001b[0m\u001b[1;33m(\u001b[0m\u001b[1;33m)\u001b[0m    \u001b[1;31m# output: protected instance method has been called\u001b[0m\u001b[1;33m\u001b[0m\u001b[1;33m\u001b[0m\u001b[0m\n\u001b[1;32m----> 3\u001b[1;33m \u001b[0mmy_object\u001b[0m\u001b[1;33m.\u001b[0m\u001b[0m__private_method\u001b[0m\u001b[1;33m(\u001b[0m\u001b[1;33m)\u001b[0m     \u001b[1;31m# output: public instance method has been called\u001b[0m\u001b[1;33m\u001b[0m\u001b[1;33m\u001b[0m\u001b[0m\n\u001b[0m",
      "\u001b[1;31mAttributeError\u001b[0m: 'MyClass' object has no attribute '__private_method'"
     ]
    }
   ],
   "source": [
    "my_object.public_method()        # output: public instance method has been called\n",
    "my_object._protected_method()    # output: protected instance method has been called\n",
    "my_object.__private_method()     # output: AttributeError exception occured"
   ]
  },
  {
   "cell_type": "markdown",
   "metadata": {},
   "source": [
    "#### Conclusion of accessing class members with different accessibility modifiers:\n",
    "- public: can be accessed, as expected\n",
    "- protected: also can be accessed, NOT as expected\n",
    "- private: can not be accessed, as expected"
   ]
  },
  {
   "cell_type": "markdown",
   "metadata": {},
   "source": [
    "### <span style=\"color:red;background-color:yellow;\"> Debug object contents in PyCharm to dive deeper!!!</span>  \n",
    "#### Accessing data members - Conclusion II\n",
    "All data members can be accessed, even if they are private"
   ]
  },
  {
   "cell_type": "markdown",
   "metadata": {},
   "source": [
    "### Method overload\n",
    "\n",
    "Method overload inside a class is required to use the same behaviour with different parameters:\n",
    "- Python is not type checker, so overload is not necessary upon type difference.\n",
    "- Other reason could be having optional parameter of calls of same method\n",
    "  \n",
    "Method overload **CAN NOT** be performed in Python.  \n",
    "  \n",
    "The solution is setting default values for optional parameters."
   ]
  },
  {
   "cell_type": "code",
   "execution_count": null,
   "metadata": {},
   "outputs": [],
   "source": [
    "    def increase_value(self, increment=1):\n",
    "        self.public_data_member += increment"
   ]
  },
  {
   "cell_type": "markdown",
   "metadata": {},
   "source": [
    "### Operator overload\n",
    "Creating operators for custom classes.\n"
   ]
  },
  {
   "cell_type": "code",
   "execution_count": 67,
   "metadata": {},
   "outputs": [],
   "source": [
    "class MyNumericClass:  \n",
    "    \n",
    "    def __init__(self, initial_num_value, initial_text_value):\n",
    "        self.numeric_data = initial_value\n",
    "        self.text_data = initial_text_value\n",
    "        \n",
    "    def __add__(self, other):\n",
    "        return MyNumericClass(self.numeric_data + other.numeric_data, self.text_data)"
   ]
  },
  {
   "cell_type": "code",
   "execution_count": 68,
   "metadata": {},
   "outputs": [
    {
     "name": "stdout",
     "output_type": "stream",
     "text": [
      "11\n"
     ]
    }
   ],
   "source": [
    "a = MyNumericClass(4)\n",
    "b = MyNumericClass(7)\n",
    "print((a+b).numeric_data)"
   ]
  },
  {
   "cell_type": "markdown",
   "metadata": {},
   "source": [
    "### Operators to overload\n",
    "\n",
    "|Operator | Expression | Overloading in Python Internally\n",
    "|:----------:|:-------------:|:------:|\n",
    "|Addition | p1 + p2 | ```p1.__add__(p2)```\n",
    "|Subtraction | p1 - p2 | ```p1.__sub__(p2)```\n",
    "|Multiplication | p1 * p2 | ```p1.__mul__(p2)```\n",
    "|Power | p1 ** p2 | ```p1.__pow__(p2)```\n",
    "|Division | p1 / p2 | ```p1.__truediv__(p2)```\n",
    "|Floor Division | p1 // p2 | ```p1.__floordiv__(p2)```\n",
    "|Remainder (modulo) | p1 % p2 | ```p1.__mod__(p2)```\n",
    "|Bitwise Left Shift | p1 << p2 | ```p1.__lshift__(p2)```\n",
    "|Bitwise Right Shift | p1 >> p2 | ```p1.__rshift__(p2)```\n",
    "|Bitwise AND | p1 & p2 | ```p1.__and__(p2)```\n",
    "|Bitwise OR | p1 \\| p2 | ```p1.__or__(p2)```\n",
    "|Bitwise XOR | p1 ^ p2 | ```p1.__xor__(p2)```\n",
    "|Bitwise NOT | ~p1 | ```p1.__invert__()```\n",
    "|Less than | p1 < p2 | ```p1.__lt__(p2)```\n",
    "|Less than or equal to | p1 <= p2 | ```p1.__le__(p2)```\n",
    "|Equal to | p1 == p2 | ```p1.__eq__(p2)```\n",
    "|Not equal to | p1 != p2 | ```p1.__ne__(p2)```\n",
    "|Greater than | p1 > p2 | ```p1.__gt__(p2)```\n",
    "|Greater than or equal to | p1 >= p2 | ```p1.__ge__(p2)```"
   ]
  },
  {
   "cell_type": "markdown",
   "metadata": {},
   "source": [
    "## Inheritance\n",
    "On class declaration, an ancestor class is specified in brakets, after class name.  \n",
    "If none specified, ```object``` will be used by default."
   ]
  },
  {
   "cell_type": "code",
   "execution_count": 81,
   "metadata": {},
   "outputs": [],
   "source": [
    "class MyInheritedClass(MyNumericClass):\n",
    "    \n",
    "    def __init__(self, initial_value, other_initial_value):\n",
    "        super().__init__(initial_value)\n",
    "        self.other_numeric_data = other_initial_value"
   ]
  },
  {
   "cell_type": "code",
   "execution_count": 87,
   "metadata": {},
   "outputs": [
    {
     "name": "stdout",
     "output_type": "stream",
     "text": [
      "<__main__.MyInheritedClass object at 0x000001F3C80C13C8>\n",
      "7\n"
     ]
    }
   ],
   "source": [
    "c = MyInheritedClass(4, 7)\n",
    "print(c)\n",
    "print(c.other_numeric_data)"
   ]
  },
  {
   "cell_type": "markdown",
   "metadata": {},
   "source": [
    "## Polymorphism\n",
    "Changing a behaviour of a class instance, usually to make it more specific as moving down the abstraction tree."
   ]
  },
  {
   "cell_type": "code",
   "execution_count": 89,
   "metadata": {},
   "outputs": [],
   "source": [
    "class MyPolymorphClass(MyNumericClass):  \n",
    "    def __str__(self):\n",
    "        return str(self.numeric_data)"
   ]
  },
  {
   "cell_type": "code",
   "execution_count": 93,
   "metadata": {},
   "outputs": [
    {
     "name": "stdout",
     "output_type": "stream",
     "text": [
      "4\n",
      "<__main__.MyNumericClass object at 0x000001F3C80A76C8>\n"
     ]
    }
   ],
   "source": [
    "d = MyPolymorphClass(4)\n",
    "e = MyPolymorphClass(9)\n",
    "print(d)\n",
    "print(d+e)"
   ]
  },
  {
   "cell_type": "markdown",
   "metadata": {},
   "source": [
    "## Static members\n",
    "Static members are:\n",
    "- stateless\n",
    "- stateful, but handling class state (not object state)\n",
    "- Referred by class name (not instance reference)\n",
    "- Does not require existence of instances"
   ]
  },
  {
   "cell_type": "markdown",
   "metadata": {},
   "source": [
    "### Static data members\n",
    "- defined in a class scope\n",
    "- not using ```self``` keyword\n"
   ]
  },
  {
   "cell_type": "markdown",
   "metadata": {},
   "source": [
    "### Static methods\n",
    "- Static methods are marked with ```@staticmethod``` annotation  \n",
    "- Do not receive ```self``` as their first parameter\n",
    "\n",
    "### Static example\n",
    "```python\n",
    "class ThesisDocument:\n",
    "    max_page_number = 70\n",
    "    \n",
    "    @staticmethod\n",
    "    def my_class_method():\n",
    "        print(ThesisDocument.max_page_number)\n",
    "```"
   ]
  },
  {
   "cell_type": "markdown",
   "metadata": {},
   "source": [
    "\n",
    "# Prototype based object creation\n",
    "Python neither chekcs nor keeps type of variables.  \n",
    "Therefore does not insist on using the same structure for objects, even if they belong to the same class.  \n",
    "  \n",
    "Python uses prototype based object creation instead of class instantiation."
   ]
  },
  {
   "cell_type": "markdown",
   "metadata": {},
   "source": [
    "#### Objects can be patched\n",
    "- New data members can be created for **a specific** object\n",
    "- New method can be created for **a specific** object"
   ]
  },
  {
   "cell_type": "code",
   "execution_count": 2,
   "metadata": {},
   "outputs": [],
   "source": [
    "obj_1 = MyClass(6)\n",
    "obj_2 = MyClass(9)"
   ]
  },
  {
   "cell_type": "markdown",
   "metadata": {},
   "source": [
    "#### Patching object with a data member"
   ]
  },
  {
   "cell_type": "code",
   "execution_count": 3,
   "metadata": {},
   "outputs": [
    {
     "name": "stdout",
     "output_type": "stream",
     "text": [
      "6\n",
      "9\n",
      "12\n"
     ]
    },
    {
     "ename": "AttributeError",
     "evalue": "'MyClass' object has no attribute 'patch_member'",
     "output_type": "error",
     "traceback": [
      "\u001b[1;31m---------------------------------------------------------------------------\u001b[0m",
      "\u001b[1;31mAttributeError\u001b[0m                            Traceback (most recent call last)",
      "\u001b[1;32m<ipython-input-3-1a25125ee6a4>\u001b[0m in \u001b[0;36m<module>\u001b[1;34m\u001b[0m\n\u001b[0;32m      3\u001b[0m \u001b[0mobj_1\u001b[0m\u001b[1;33m.\u001b[0m\u001b[0mpatch_member\u001b[0m \u001b[1;33m=\u001b[0m \u001b[1;36m12\u001b[0m\u001b[1;33m\u001b[0m\u001b[0m\n\u001b[0;32m      4\u001b[0m \u001b[0mprint\u001b[0m\u001b[1;33m(\u001b[0m\u001b[0mobj_1\u001b[0m\u001b[1;33m.\u001b[0m\u001b[0mpatch_member\u001b[0m\u001b[1;33m)\u001b[0m\u001b[1;33m\u001b[0m\u001b[0m\n\u001b[1;32m----> 5\u001b[1;33m \u001b[0mprint\u001b[0m\u001b[1;33m(\u001b[0m\u001b[0mobj_2\u001b[0m\u001b[1;33m.\u001b[0m\u001b[0mpatch_member\u001b[0m\u001b[1;33m)\u001b[0m\u001b[1;33m\u001b[0m\u001b[0m\n\u001b[0m",
      "\u001b[1;31mAttributeError\u001b[0m: 'MyClass' object has no attribute 'patch_member'"
     ]
    }
   ],
   "source": [
    "print(obj_1.public_data_member)\n",
    "print(obj_2.public_data_member)\n",
    "obj_1.patch_member = 12\n",
    "print(obj_1.patch_member)\n",
    "print(obj_2.patch_member)"
   ]
  },
  {
   "cell_type": "markdown",
   "metadata": {},
   "source": [
    "#### Patching object with a behaviour (method)"
   ]
  },
  {
   "cell_type": "markdown",
   "metadata": {},
   "source": [
    "Test if the object has ```calc()``` method."
   ]
  },
  {
   "cell_type": "code",
   "execution_count": 18,
   "metadata": {},
   "outputs": [
    {
     "name": "stdout",
     "output_type": "stream",
     "text": [
      "234\n",
      "234\n"
     ]
    }
   ],
   "source": [
    "obj_2.calc()\n",
    "print(obj_2.patch_data)"
   ]
  },
  {
   "cell_type": "code",
   "execution_count": 5,
   "metadata": {},
   "outputs": [],
   "source": [
    "def patch_method(self):\n",
    "    self.patch_data = 234\n",
    "    print(self.patch_data)"
   ]
  },
  {
   "cell_type": "code",
   "execution_count": 8,
   "metadata": {},
   "outputs": [],
   "source": [
    "obj_2.calc = patch_method"
   ]
  },
  {
   "cell_type": "markdown",
   "metadata": {},
   "source": [
    "Patching object using ```MethodType```"
   ]
  },
  {
   "cell_type": "code",
   "execution_count": 12,
   "metadata": {},
   "outputs": [],
   "source": [
    "import types\n",
    "obj_2.calc = types.MethodType( patch_method, obj_2 )"
   ]
  },
  {
   "cell_type": "markdown",
   "metadata": {},
   "source": [
    "Patching object using [descriptor protocol](https://docs.python.org/2/howto/descriptor.html)"
   ]
  },
  {
   "cell_type": "code",
   "execution_count": 14,
   "metadata": {},
   "outputs": [],
   "source": [
    "obj_2.calc = patch_method.__get__( obj_2 )"
   ]
  },
  {
   "cell_type": "markdown",
   "metadata": {},
   "source": [
    "### <span style=\"color:red;\"> Patching object is NOT recommended, use inheritance instead!!!</span>  "
   ]
  }
 ],
 "metadata": {
  "kernelspec": {
   "display_name": "Python 3",
   "language": "python",
   "name": "python3"
  },
  "language_info": {
   "codemirror_mode": {
    "name": "ipython",
    "version": 3
   },
   "file_extension": ".py",
   "mimetype": "text/x-python",
   "name": "python",
   "nbconvert_exporter": "python",
   "pygments_lexer": "ipython3",
   "version": "3.7.0"
  }
 },
 "nbformat": 4,
 "nbformat_minor": 4
}
