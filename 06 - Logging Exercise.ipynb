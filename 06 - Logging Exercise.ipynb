{
 "cells": [
  {
   "cell_type": "markdown",
   "metadata": {},
   "source": [
    "# Logger\n",
    "## Common Logger\n",
    "Functional requirements:\n",
    "- handles a specific log file\n",
    "- extends the file\n",
    "- does not keep log file open\n",
    "- emitted log level can be set\n",
    "    1. fatal\n",
    "    2. error\n",
    "    3. warning\n",
    "    4. info\n",
    "    5. debug\n",
    "- prints messages to log file if message level is less than or equal to emission level\n",
    "- if message level is higher than emission level, message is ignored/absorbed\n",
    "- on message emission, use current date, time, message log level as header"
   ]
  },
  {
   "cell_type": "markdown",
   "metadata": {},
   "source": [
    "Functions to implement:\n",
    "- constructor(file_name)\n",
    "- set_level(new level)\n",
    "- write(print_header, message, level) - **can not be called directly from outside the object**  \n",
    "    if print_header is False, emit only the message\n",
    "    \n",
    "    \n",
    "Make logging easier by using a level name instead of number:\n",
    "- fatal(message)\n",
    "- error(message)\n",
    "- warning(message)\n",
    "- info(message)\n",
    "- debug(message)\n",
    "  \n",
    "OOP fix:\n",
    "- if last 5 methods are implemented, force user NOT to use write method (disable)"
   ]
  },
  {
   "cell_type": "markdown",
   "metadata": {},
   "source": [
    "### Appending file"
   ]
  },
  {
   "cell_type": "code",
   "execution_count": null,
   "metadata": {},
   "outputs": [],
   "source": [
    " with open(file_name, \"a\") as file:\n",
    "    file.write(message)"
   ]
  },
  {
   "cell_type": "markdown",
   "metadata": {},
   "source": [
    "### Printing current date and time"
   ]
  },
  {
   "cell_type": "code",
   "execution_count": 2,
   "metadata": {},
   "outputs": [],
   "source": [
    "from datetime import datetime"
   ]
  },
  {
   "cell_type": "code",
   "execution_count": 3,
   "metadata": {},
   "outputs": [
    {
     "name": "stdout",
     "output_type": "stream",
     "text": [
      "2020/02/23 17:13:02\n"
     ]
    }
   ],
   "source": [
    "current_date_and_time = datetime.now()\n",
    "print(current_date_and_time.strftime(\"%Y/%m/%d %H:%M:%S\"))"
   ]
  },
  {
   "cell_type": "markdown",
   "metadata": {},
   "source": [
    "## Test Common Logger\n",
    "```python\n",
    "from Logger import Logger\n",
    "\n",
    "logger = Logger(\"out.log\")\n",
    "logger.set_level(3)\n",
    "\n",
    "# Place of breakpoint\n",
    "logger.fatal(\"print on level 1\")\n",
    "logger.error(\"print on level 2\")\n",
    "logger.warning(\"print on level 3\")\n",
    "logger.info(\"print on level 4\")\n",
    "logger.debug(\"print on level 5\")\n",
    "```"
   ]
  },
  {
   "cell_type": "markdown",
   "metadata": {},
   "source": [
    "## Object logger\n",
    "1. Change Common Logger to decide if header is printed or not\n",
    "2. Extend functionality of Common Logger to be able to log parameter object (using compact JSON serialization)\n",
    "3. Extend functionality of Object Logger to be able to log many objects"
   ]
  },
  {
   "cell_type": "markdown",
   "metadata": {},
   "source": [
    "### Generating compact JSON encoded string output:"
   ]
  },
  {
   "cell_type": "code",
   "execution_count": 1,
   "metadata": {},
   "outputs": [],
   "source": [
    "import json"
   ]
  },
  {
   "cell_type": "code",
   "execution_count": 2,
   "metadata": {},
   "outputs": [
    {
     "name": "stdout",
     "output_type": "stream",
     "text": [
      "[\n",
      "    \"Item\",\n",
      "    4,\n",
      "    {\n",
      "        \"key\": \"value\"\n",
      "    }\n",
      "]\n"
     ]
    }
   ],
   "source": [
    "print(json.dumps([\"Item\", 4, {\"key\":\"value\"}], sort_keys=True, indent=4))"
   ]
  },
  {
   "cell_type": "markdown",
   "metadata": {},
   "source": [
    "### Set empty list as default value of a parameter\n",
    "\n",
    "Setting empty list as default parameter directly\n",
    "\n",
    "```python\n",
    "def method(self, obj_list=[]):\n",
    "    print(obj_list)\n",
    "```\n",
    "will result IDE WARNING (this is not an error)!  \n",
    "  \n",
    "PyCharm can help to fix\n",
    "```python\n",
    "def method(self, obj_list=None):\n",
    "    if obj_list is None:\n",
    "        obj_list = []\n",
    "```"
   ]
  },
  {
   "cell_type": "markdown",
   "metadata": {},
   "source": [
    "### Check if a value is a list"
   ]
  },
  {
   "cell_type": "code",
   "execution_count": 8,
   "metadata": {},
   "outputs": [
    {
     "name": "stdout",
     "output_type": "stream",
     "text": [
      "item\n",
      "['item']\n"
     ]
    }
   ],
   "source": [
    "obj = \"item\"\n",
    "print(obj)\n",
    "if not isinstance(obj, list):\n",
    "    obj = [obj]\n",
    "print(obj)"
   ]
  },
  {
   "cell_type": "markdown",
   "metadata": {},
   "source": [
    "## Test Object Logger\n",
    "```python\n",
    "from ObjectLogger import ObjectLogger\n",
    "\n",
    "my_local_data_object = [\"item_1\", {\"key\": \"value\"}, \"item_2\"]\n",
    "\n",
    "obj_logger = ObjectLogger(\"out.log\")\n",
    "obj_logger.set_level(3)\n",
    "obj_logger.fatal(\"descendant print on level 1\", [my_local_data_object])\n",
    "obj_logger.error(\"descendant print on level 2\")\n",
    "obj_logger.warning(\"descendant print on level 3\", my_local_data_object)\n",
    "obj_logger.info(\"descendant print on level 2\")\n",
    "obj_logger.debug(\"descendant print on level 3\")\n",
    "```"
   ]
  }
 ],
 "metadata": {
  "kernelspec": {
   "display_name": "Python 3",
   "language": "python",
   "name": "python3"
  },
  "language_info": {
   "codemirror_mode": {
    "name": "ipython",
    "version": 3
   },
   "file_extension": ".py",
   "mimetype": "text/x-python",
   "name": "python",
   "nbconvert_exporter": "python",
   "pygments_lexer": "ipython3",
   "version": "3.7.0"
  }
 },
 "nbformat": 4,
 "nbformat_minor": 4
}
