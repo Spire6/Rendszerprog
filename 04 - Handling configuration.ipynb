{
 "cells": [
  {
   "cell_type": "markdown",
   "metadata": {},
   "source": [
    "# Collection types - retrospection\n",
    "## List\n",
    "A list is a collection which is ordered and changeable. \n",
    "  \n",
    "```Python\n",
    "list = [item1, item2, item3]\n",
    "```  \n",
    "  \n",
    "Items can be any type of data  \n",
    "\n",
    "## Dictionary\n",
    "  \n",
    "A dictionary is a collection which is unordered, changeable and indexed by keys.\n",
    "```Python\n",
    "new_dict = {\n",
    "  \"brand\": \"Ford\",\n",
    "  \"model\": \"Mustang\",\n",
    "  \"year\": 1964\n",
    "}\n",
    "```  \n",
    "Can be indexed by the keys.  \n",
    "```Python\n",
    "new_dict[\"license_number\"] = \"ABC-123\"\n",
    "print( new_dict[\"brand\"] )\n",
    "```\n",
    "  \n",
    "## Combination\n",
    "- Collections can store any type of items including collection types\n",
    "- Therefore:\n",
    "    - List items can be lists and/or dictionaries\n",
    "    - Dictionary values can be lists and/or dictionaries"
   ]
  },
  {
   "cell_type": "markdown",
   "metadata": {},
   "source": [
    "# JSON - Data serialization language \n",
    "  \n",
    "[JSON description](https://hu.wikipedia.org/wiki/JSON)  \n",
    "  \n",
    "### Import required components"
   ]
  },
  {
   "cell_type": "code",
   "execution_count": 7,
   "metadata": {},
   "outputs": [],
   "source": [
    "from pathlib import Path\n",
    "import json"
   ]
  },
  {
   "cell_type": "markdown",
   "metadata": {},
   "source": [
    "Contents of pretty JSON configuration file:\n",
    "```json\n",
    "{\n",
    "    \"Data\": \"some data content\",\n",
    "    \"Favorite movies\": [\n",
    "        \"Casablanca\",\n",
    "        \"North by Northwest\",\n",
    "        \"The Man Who Wasn't There\"\n",
    "    ],\n",
    "    \"Other data\": \"Other data content\",\n",
    "    \"Person\": {\n",
    "        \"first_name\": \"John\",\n",
    "        \"last_name\": \"Doe\"\n",
    "    },\n",
    "    \"Shopping list\": [\n",
    "        \"milk\",\n",
    "        \"pumpkin pie\",\n",
    "        \"eggs\",\n",
    "        \"juice\"\n",
    "    ]\n",
    "}\n",
    "```"
   ]
  },
  {
   "cell_type": "markdown",
   "metadata": {},
   "source": [
    "### Read contents of config file into a string variable"
   ]
  },
  {
   "cell_type": "code",
   "execution_count": 8,
   "metadata": {},
   "outputs": [],
   "source": [
    "document_json = Path(\"../Data/sample_config.json\").read_text()"
   ]
  },
  {
   "cell_type": "markdown",
   "metadata": {},
   "source": [
    "### Decode - Parse JSON content into structured variable tree"
   ]
  },
  {
   "cell_type": "code",
   "execution_count": null,
   "metadata": {},
   "outputs": [],
   "source": [
    "json_object = json.loads(document_json)\n",
    "print(json_object)"
   ]
  },
  {
   "cell_type": "markdown",
   "metadata": {},
   "source": [
    "### Encode - Emit configuration settings into a JSON structured string\n",
    "Compact JSON encoder: just list and dictionary item separators are defined"
   ]
  },
  {
   "cell_type": "code",
   "execution_count": null,
   "metadata": {},
   "outputs": [],
   "source": [
    "compact_json = json.dumps(json_object, separators=(',', ':'))\n",
    "print(compact_json)"
   ]
  },
  {
   "cell_type": "markdown",
   "metadata": {},
   "source": [
    "### Encode - Emit configuration settings into a JSON structured string\n",
    "Pretty JSON encoder: structure is represented by indentation, sorting helps finding items"
   ]
  },
  {
   "cell_type": "code",
   "execution_count": null,
   "metadata": {},
   "outputs": [],
   "source": [
    "pretty_json = json.dumps(json_object, sort_keys=True, indent=4)\n",
    "print(pretty_json)"
   ]
  },
  {
   "cell_type": "markdown",
   "metadata": {},
   "source": [
    "# YAML - Data serialization language \n",
    "  \n",
    "[YAML description](https://en.wikipedia.org/wiki/YAML)  "
   ]
  },
  {
   "cell_type": "markdown",
   "metadata": {},
   "source": [
    "### Installing prerequisites\n",
    "Handling data with YAML serialization requires PyYaml package to have installed.  \n",
    "Instead of installing it into a global environment, install it into the current kernel,  \n",
    "using the following block:"
   ]
  },
  {
   "cell_type": "code",
   "execution_count": 1,
   "metadata": {},
   "outputs": [
    {
     "name": "stderr",
     "output_type": "stream",
     "text": [
      "'c:\\users\\storcz' is not recognized as an internal or external command,\n",
      "operable program or batch file.\n"
     ]
    }
   ],
   "source": [
    "import sys\n",
    "!{sys.executable} -m pip install PyYaml"
   ]
  },
  {
   "cell_type": "markdown",
   "metadata": {},
   "source": [
    "### Import required components"
   ]
  },
  {
   "cell_type": "code",
   "execution_count": 4,
   "metadata": {},
   "outputs": [],
   "source": [
    "from pathlib import Path\n",
    "import yaml\n",
    "from yaml import CLoader, CDumper"
   ]
  },
  {
   "cell_type": "markdown",
   "metadata": {},
   "source": [
    "Contents of YAML configuration file:\n",
    "```YAML\n",
    "Data: some data content\n",
    "\n",
    "Other data:\n",
    "    Other data content\n",
    "\n",
    "Favorite movies:\n",
    "    - Casablanca\n",
    "    - North by Northwest\n",
    "    - The Man Who Wasn't There\n",
    "\n",
    "Shopping list: [milk, pumpkin pie, eggs, juice]\n",
    "\n",
    "Person:\n",
    "    first_name: John\n",
    "    last_name: Doe\n",
    "\n",
    "```"
   ]
  },
  {
   "cell_type": "markdown",
   "metadata": {},
   "source": [
    "### Read contents of config file into a string variable"
   ]
  },
  {
   "cell_type": "code",
   "execution_count": 6,
   "metadata": {},
   "outputs": [],
   "source": [
    "document_yaml = Path(\"../Data/sample_config.yml\").read_text()"
   ]
  },
  {
   "cell_type": "markdown",
   "metadata": {},
   "source": [
    "### Decode - Parse YAML content into structured variable tree"
   ]
  },
  {
   "cell_type": "code",
   "execution_count": 7,
   "metadata": {},
   "outputs": [],
   "source": [
    "structured_data = yaml.load(document_yaml, Loader=CLoader)"
   ]
  },
  {
   "cell_type": "code",
   "execution_count": 8,
   "metadata": {},
   "outputs": [
    {
     "name": "stdout",
     "output_type": "stream",
     "text": [
      "{'Data': 'some data content', 'Other data': 'Other data content', 'Favorite movies': ['Casablanca', 'North by Northwest', \"The Man Who Wasn't There\"], 'Shopping list': ['milk', 'pumpkin pie', 'eggs', 'juice'], 'Person': {'first_name': 'John', 'last_name': 'Doe'}}\n"
     ]
    }
   ],
   "source": [
    "print(structured_data)"
   ]
  },
  {
   "cell_type": "markdown",
   "metadata": {},
   "source": [
    "### Encode - Emit configuration settings into a YAML structured string"
   ]
  },
  {
   "cell_type": "code",
   "execution_count": 5,
   "metadata": {},
   "outputs": [],
   "source": [
    "yaml_output = yaml.dump(structured_data, Dumper=CDumper)"
   ]
  },
  {
   "cell_type": "code",
   "execution_count": 6,
   "metadata": {},
   "outputs": [
    {
     "name": "stdout",
     "output_type": "stream",
     "text": [
      "Data: some data content\n",
      "Favorite movies: [Casablanca, North by Northwest, The Man Who Wasn't There]\n",
      "Other data: Other data content\n",
      "Person: {first_name: John, last_name: Doe}\n",
      "Shopping list: [milk, pumpkin pie, eggs, juice]\n",
      "\n"
     ]
    }
   ],
   "source": [
    "print(yaml_output)"
   ]
  }
 ],
 "metadata": {
  "kernelspec": {
   "display_name": "Python 3",
   "language": "python",
   "name": "python3"
  },
  "language_info": {
   "codemirror_mode": {
    "name": "ipython",
    "version": 3
   },
   "file_extension": ".py",
   "mimetype": "text/x-python",
   "name": "python",
   "nbconvert_exporter": "python",
   "pygments_lexer": "ipython3",
   "version": "3.7.0"
  }
 },
 "nbformat": 4,
 "nbformat_minor": 4
}
