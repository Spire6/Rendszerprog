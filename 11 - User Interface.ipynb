{
 "cells": [
  {
   "cell_type": "markdown",
   "metadata": {},
   "source": [
    "# Graphical User Interface\n",
    "\n",
    "Tk/Tcl robust, platform independent windowing toolkit, which is available for Python programmers using ```tkinter``` package.\n",
    "  \n",
    "```tkinter``` is a thin, object oriented layer on Tk/Tcl. As a wrapper, implements Tk widgets in a threadsafe mode.  \n",
    "\n",
    "Documentation:\n",
    "- [Tk interface](https://docs.python.org/3/library/tkinter.ttk.html#virtual-events) \n",
    "- [Tk documantation](https://docs.python.org/3/library/tk.html)\n",
    "- [Tcl docimentation]()\n",
    "\n"
   ]
  },
  {
   "cell_type": "markdown",
   "metadata": {},
   "source": [
    "## Importing required modules"
   ]
  },
  {
   "cell_type": "code",
   "execution_count": 243,
   "metadata": {},
   "outputs": [],
   "source": [
    "import tkinter as tk\n",
    "import tkinter.ttk as ttk\n",
    "from tkinter import messagebox"
   ]
  },
  {
   "cell_type": "markdown",
   "metadata": {},
   "source": [
    "## Creating window to have a widget container"
   ]
  },
  {
   "cell_type": "code",
   "execution_count": 230,
   "metadata": {},
   "outputs": [],
   "source": [
    "window = tk.Tk()"
   ]
  },
  {
   "cell_type": "markdown",
   "metadata": {},
   "source": [
    "### Show window by starting its event loop\n",
    "<span style=\"color:red\">Only run this cell when the window is fully built</span>"
   ]
  },
  {
   "cell_type": "code",
   "execution_count": 241,
   "metadata": {},
   "outputs": [
    {
     "name": "stdout",
     "output_type": "stream",
     "text": [
      "New selection:  Value 2\n",
      "text changed MyTextBox  write f\n",
      "text changed MyTextBox  write fd\n",
      "text changed MyTextBox  write fds\n",
      "text changed MyTextBox  write fdsd\n",
      "Button pressed\n"
     ]
    }
   ],
   "source": [
    "window.mainloop()"
   ]
  },
  {
   "cell_type": "markdown",
   "metadata": {},
   "source": [
    "### Set window properties"
   ]
  },
  {
   "cell_type": "code",
   "execution_count": 231,
   "metadata": {},
   "outputs": [
    {
     "data": {
      "text/plain": [
       "''"
      ]
     },
     "execution_count": 231,
     "metadata": {},
     "output_type": "execute_result"
    }
   ],
   "source": [
    "window.title(\"My windowed application\")\n",
    "window.geometry('350x200')"
   ]
  },
  {
   "cell_type": "markdown",
   "metadata": {},
   "source": [
    "### Add ```Label``` widget to the container"
   ]
  },
  {
   "cell_type": "code",
   "execution_count": 232,
   "metadata": {},
   "outputs": [],
   "source": [
    "lbl = tk.Label(window, text=\"Part of day: \")\n",
    "lbl.pack(side = TOP)"
   ]
  },
  {
   "cell_type": "markdown",
   "metadata": {},
   "source": [
    "### Add ```Button``` widget to the container"
   ]
  },
  {
   "cell_type": "code",
   "execution_count": 233,
   "metadata": {},
   "outputs": [],
   "source": [
    "my_button = tk.Button(window)\n",
    "my_button[\"text\"] = \"Greetings\\n(click me)\"\n",
    "my_button.pack(side = BOTTOM)"
   ]
  },
  {
   "cell_type": "markdown",
   "metadata": {},
   "source": [
    "### Add ```Entry``` widget (TextBox) to the container"
   ]
  },
  {
   "cell_type": "code",
   "execution_count": 234,
   "metadata": {},
   "outputs": [],
   "source": [
    "textbox = tk.Entry(window, width=20)\n",
    "textbox.pack(side=TOP)"
   ]
  },
  {
   "cell_type": "markdown",
   "metadata": {},
   "source": [
    "### Add ```Label``` and ```ComboBox``` widgets in a ```Frame``` to the container"
   ]
  },
  {
   "cell_type": "code",
   "execution_count": 235,
   "metadata": {},
   "outputs": [],
   "source": [
    "frame = tk.Frame(window)\n",
    "frame.pack(side = TOP)\n",
    "frame_lbl = tk.Label(frame, text=\"Selection: \")\n",
    "frame_lbl.pack(side = LEFT)\n",
    "frame_combo = ttk.Combobox(frame, state=\"readonly\")\n",
    "frame_combo['values'] = (\"Value 1\", \"Value 2\", \"Value 3\", \"Value 4\")\n",
    "frame_combo.current(0)\n",
    "frame_combo.pack(side = RIGHT)"
   ]
  },
  {
   "cell_type": "markdown",
   "metadata": {},
   "source": [
    "### Add event handlers to ```Button``` widget\n",
    "In tkinter [Envents and Bindings](https://effbot.org/tkinterbook/tkinter-events-and-bindings.htm) are used in the main event loop.  \n",
    "Event loop receives events and based on bindings, a calls event handler methods."
   ]
  },
  {
   "cell_type": "code",
   "execution_count": 190,
   "metadata": {},
   "outputs": [],
   "source": [
    "def button_handler():\n",
    "    print(\"Button pressed\")"
   ]
  },
  {
   "cell_type": "code",
   "execution_count": 236,
   "metadata": {},
   "outputs": [],
   "source": [
    "my_button[\"command\"] = button_handler"
   ]
  },
  {
   "cell_type": "markdown",
   "metadata": {},
   "source": [
    "### Add event handlers to ```ComboBox``` widget"
   ]
  },
  {
   "cell_type": "code",
   "execution_count": 237,
   "metadata": {},
   "outputs": [],
   "source": [
    "def combo_value_change_handler(event_args):\n",
    "    print(\"New selection: \", event_args.widget.get())"
   ]
  },
  {
   "cell_type": "code",
   "execution_count": 238,
   "metadata": {},
   "outputs": [
    {
     "data": {
      "text/plain": [
       "'2607651896520combo_value_change_handler'"
      ]
     },
     "execution_count": 238,
     "metadata": {},
     "output_type": "execute_result"
    }
   ],
   "source": [
    "frame_combo.bind(\"<<ComboboxSelected>>\", combo_value_change_handler)"
   ]
  },
  {
   "cell_type": "markdown",
   "metadata": {},
   "source": [
    "### Add ```TextBox``` widget with event handles is special\n",
    "When trying to add a change event handler, an event is required for tracking variable value changes.  \n",
    "In Python, there is NO such event handler.\n",
    "\n",
    "But ```tkinter``` can wrap traceable [Tcl variables](https://effbot.org/tkinterbook/variable.htm)."
   ]
  },
  {
   "cell_type": "code",
   "execution_count": 239,
   "metadata": {},
   "outputs": [],
   "source": [
    "def text_change_handler(name, index, operation):\n",
    "    print(\"text changed\", name, index, operation, text_with_event.get())"
   ]
  },
  {
   "cell_type": "code",
   "execution_count": 240,
   "metadata": {},
   "outputs": [],
   "source": [
    "text_variable = tk.StringVar(name=\"MyTextBox\")\n",
    "text_variable.trace_add(\n",
    "    \"write\",\n",
    "    lambda name, index, operation:\n",
    "        text_change_handler(name, index, operation)\n",
    ")\n",
    "\n",
    "text_with_event = tk.Entry(window, textvariable=text_variable, width=20)\n",
    "text_with_event.pack(side = TOP)"
   ]
  },
  {
   "cell_type": "markdown",
   "metadata": {},
   "source": [
    "-----"
   ]
  },
  {
   "cell_type": "markdown",
   "metadata": {},
   "source": [
    "## A custom class to handle Window for a specific GUI"
   ]
  },
  {
   "cell_type": "code",
   "execution_count": 246,
   "metadata": {},
   "outputs": [],
   "source": [
    "class Window(object):\n",
    "\n",
    "    def __init__(self):\n",
    "        self.window = None\n",
    "        \n",
    "        self.lbl1 = None\n",
    "        self.lbl2 = None\n",
    "        self.combo = None\n",
    "        self.name = None\n",
    "        self.txt = None\n",
    "        self.greetings_button = None\n",
    "        self.quit_button = None\n",
    "\n",
    "    def show(self):\n",
    "        self.create_window()\n",
    "        self.create_widgets()\n",
    "        self.window.mainloop()\n",
    "\n",
    "    def create_window(self):\n",
    "        self.window = tk.Tk()\n",
    "        self.window.title(\"My windowed application\")\n",
    "        self.window.geometry('350x200')\n",
    "\n",
    "    def create_widgets(self):\n",
    "        # label\n",
    "        self.lbl2 = tk.Label(self.window, text=\"Part of day: \")\n",
    "        self.lbl2.grid(column=0, row=0)\n",
    "\n",
    "        # combobox\n",
    "        self.combo = ttk.Combobox(self.window, state=\"readonly\")\n",
    "        self.combo['values'] = (\"Please select...\", \"morning\", \"day\", \"afternoon\", \"evening\", \"night\")\n",
    "        self.combo.current(0)\n",
    "        self.combo.grid(column=1, row=0)\n",
    "        self.combo.bind(\"<<ComboboxSelected>>\", self.__combo_change_handler)\n",
    "\n",
    "        # label\n",
    "        self.lbl1 = tk.Label(self.window, text=\"User name: \")\n",
    "        self.lbl1.grid(column=0, row=1)\n",
    "\n",
    "        # text input\n",
    "        self.name = tk.StringVar(name=\"UserName\")\n",
    "        self.name.trace_add(\n",
    "            \"write\",\n",
    "            lambda name, index, operation:\n",
    "            self.__name_change_handler(name, index, operation)\n",
    "        )\n",
    "\n",
    "        self.txt = tk.Entry(self.window, textvariable=self.name, width=20)\n",
    "        self.txt.grid(column=1, row=1)\n",
    "\n",
    "        # command button\n",
    "        self.greetings_button = tk.Button(self.window, state=\"disabled\")\n",
    "        self.greetings_button[\"text\"] = \"Greetings\\n(click me)\"\n",
    "        self.greetings_button[\"command\"] = self.__greeting_handler\n",
    "        self.greetings_button.grid(column=1, row=2)\n",
    "\n",
    "        # button\n",
    "        self.quit_button = tk.Button(self.window, text=\"QUIT\", fg=\"red\", command=self.__quit_handler)\n",
    "        self.quit_button.grid(column=1, row=4)\n",
    "\n",
    "    def __quit_handler(self):\n",
    "        print(\"Leaving the application!\")\n",
    "        self.window.destroy()\n",
    "\n",
    "    def __greeting_handler(self):\n",
    "        message = \"Good \" + self.combo.get() + \" \" + self.txt.get() + \"!\\nWelcome on board!\"\n",
    "        messagebox.showinfo('Greetings...', message)\n",
    "\n",
    "    def __combo_change_handler(self, event_args):\n",
    "        self.__greetings_state_set()\n",
    "\n",
    "    def __name_change_handler(self, name, index, operation):\n",
    "        self.__greetings_state_set()\n",
    "\n",
    "    def __greetings_state_set(self):\n",
    "        if self.combo.get() != \"Please select...\" and len(self.txt.get().strip()) > 0:\n",
    "            self.greetings_button.configure(state='normal')\n",
    "        else:\n",
    "            self.greetings_button.configure(state='disabled')"
   ]
  },
  {
   "cell_type": "markdown",
   "metadata": {},
   "source": [
    "## Create and show window instance"
   ]
  },
  {
   "cell_type": "code",
   "execution_count": 247,
   "metadata": {},
   "outputs": [
    {
     "name": "stdout",
     "output_type": "stream",
     "text": [
      "Leaving the application!\n"
     ]
    }
   ],
   "source": [
    "my_window = Window()\n",
    "my_window.show()"
   ]
  },
  {
   "cell_type": "code",
   "execution_count": 248,
   "metadata": {},
   "outputs": [],
   "source": [
    "my_window.show()"
   ]
  }
 ],
 "metadata": {
  "kernelspec": {
   "display_name": "Python 3",
   "language": "python",
   "name": "python3"
  },
  "language_info": {
   "codemirror_mode": {
    "name": "ipython",
    "version": 3
   },
   "file_extension": ".py",
   "mimetype": "text/x-python",
   "name": "python",
   "nbconvert_exporter": "python",
   "pygments_lexer": "ipython3",
   "version": "3.7.5"
  }
 },
 "nbformat": 4,
 "nbformat_minor": 4
}
