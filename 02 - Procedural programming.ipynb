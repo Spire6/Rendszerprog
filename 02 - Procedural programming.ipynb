{
 "cells": [
  {
   "cell_type": "markdown",
   "metadata": {},
   "source": [
    "# Procedure\n",
    "Naming and executing (using name) a sequence of instructions as a unit called function/procedure/method"
   ]
  },
  {
   "cell_type": "markdown",
   "metadata": {},
   "source": [
    "# Procedural programming  \n",
    "\n",
    "Procedural programming is about to organize code into methods (procedures) to make them reusable and the whole code base more readable  \n",
    "  \n",
    "To achieve this, let's see how to define a method (procedure)\n",
    "\n",
    "pseudo description of method declaration:\n",
    "\n",
    "```python\n",
    "def <method_name>([parameter list]):  \n",
    "    <method block>  \n",
    "    [return [value]]  \n",
    "```\n",
    "<b>```def```:</b> keyword of method declaracion  \n",
    "<b>method_name:</b> lowarcase text, words separated by underscore \"_\", describes implemented functionality  \n",
    "<b>parameter list:</b> optional list of formal parameters, separated by coma \",\"  \n",
    "<b>method block:</b> instructions using input parameters to create return value  \n",
    "<b>```return```:</b> optinal keyword, inscturtion to send a value back to the caller if this instruction or explicit value is hot specified ```None``` is returned.\n",
    "  \n",
    "### Be aware of line indentation: Code block content is <i>indented to the next level</i>  \n",
    "\n",
    "| Aim of method declaration | Input | Works on  | Outuput |\n",
    "|:------------- |:------------- |:----- |:----- |\n",
    "| Reset state   | No | globals | No |\n",
    "| Change state  | New state | input + globals | No |\n",
    "| Macro  | No | constants | result |\n",
    "| Computed state  | No | globals | Complex state |\n",
    "| Any operation | Any data | input + globals | result |\n"
   ]
  },
  {
   "cell_type": "markdown",
   "metadata": {},
   "source": [
    "(Macro) Method example without input parameter:"
   ]
  },
  {
   "cell_type": "code",
   "execution_count": 13,
   "metadata": {},
   "outputs": [],
   "source": [
    "def pi_approximation():\n",
    "    return 25/8"
   ]
  },
  {
   "cell_type": "markdown",
   "metadata": {},
   "source": [
    "Method call, and handling returned value"
   ]
  },
  {
   "cell_type": "code",
   "execution_count": 14,
   "metadata": {},
   "outputs": [
    {
     "name": "stdout",
     "output_type": "stream",
     "text": [
      "3.125\n"
     ]
    }
   ],
   "source": [
    "pi = pi_approximation()\n",
    "print(pi)"
   ]
  },
  {
   "cell_type": "markdown",
   "metadata": {},
   "source": [
    "(Operation) Method example with input parameter:  "
   ]
  },
  {
   "cell_type": "code",
   "execution_count": 5,
   "metadata": {},
   "outputs": [],
   "source": [
    "def compute(a):\n",
    "    return (a * 1.5) + 7"
   ]
  },
  {
   "cell_type": "markdown",
   "metadata": {},
   "source": [
    "Method call with input parameter and output handling"
   ]
  },
  {
   "cell_type": "code",
   "execution_count": 12,
   "metadata": {},
   "outputs": [
    {
     "name": "stdout",
     "output_type": "stream",
     "text": [
      "14.5\n"
     ]
    }
   ],
   "source": [
    "result = compute(5)\n",
    "print(result)"
   ]
  },
  {
   "cell_type": "markdown",
   "metadata": {},
   "source": [
    "## Formal parameters\n",
    "- variables are local in declaring block\n",
    "- can have default value"
   ]
  },
  {
   "cell_type": "code",
   "execution_count": 1,
   "metadata": {},
   "outputs": [],
   "source": [
    "def add_numbers(a, b, c=3, d=5):\n",
    "    return a + b + c + d"
   ]
  },
  {
   "cell_type": "markdown",
   "metadata": {},
   "source": [
    "## Actual parametes\n",
    "- refer by index\n",
    "- refer by name"
   ]
  },
  {
   "cell_type": "code",
   "execution_count": 3,
   "metadata": {},
   "outputs": [
    {
     "name": "stdout",
     "output_type": "stream",
     "text": [
      "35\n"
     ]
    }
   ],
   "source": [
    "result = add_numbers(7, d=14, b=11)\n",
    "print(result)"
   ]
  },
  {
   "cell_type": "markdown",
   "metadata": {},
   "source": [
    "7 + 11 + 3 + 14 = 35"
   ]
  },
  {
   "cell_type": "markdown",
   "metadata": {},
   "source": [
    "## Parameters: Value or reference is passed? "
   ]
  },
  {
   "cell_type": "code",
   "execution_count": 1,
   "metadata": {},
   "outputs": [],
   "source": [
    "def extend_array(array):\n",
    "    print(\"Before set: \", array)\n",
    "    array.append(\"new item\")\n",
    "    print(\"After set: \", array)\n",
    "    "
   ]
  },
  {
   "cell_type": "code",
   "execution_count": 3,
   "metadata": {
    "scrolled": false
   },
   "outputs": [
    {
     "name": "stdout",
     "output_type": "stream",
     "text": [
      "Created:  ['first', 'array']\n",
      "Before set:  ['first', 'array']\n",
      "After set:  ['first', 'array', 'new item']\n",
      "After extension:  ['first', 'array', 'new item']\n"
     ]
    }
   ],
   "source": [
    "arr = [\"first\", \"array\"]\n",
    "print(\"Created: \", arr)\n",
    "extend_array(arr)\n",
    "print(\"After extension: \", arr)"
   ]
  },
  {
   "cell_type": "markdown",
   "metadata": {},
   "source": [
    "Array is extended with a new item"
   ]
  },
  {
   "cell_type": "code",
   "execution_count": 4,
   "metadata": {},
   "outputs": [],
   "source": [
    "def change_array(array):\n",
    "    print(\"Before change: \", array)\n",
    "    array = [\"brand\", \"new\", \"array\"]\n",
    "    print(\"After change: \", array)"
   ]
  },
  {
   "cell_type": "code",
   "execution_count": 5,
   "metadata": {},
   "outputs": [
    {
     "name": "stdout",
     "output_type": "stream",
     "text": [
      "Created:  ['first', 'array', 'new item']\n",
      "Before change:  ['first', 'array', 'new item']\n",
      "After change:  ['brand', 'new', 'array']\n",
      "After extension:  ['first', 'array', 'new item']\n"
     ]
    }
   ],
   "source": [
    "print(\"Created: \", arr)\n",
    "change_array(arr)\n",
    "print(\"After extension: \", arr)"
   ]
  },
  {
   "cell_type": "markdown",
   "metadata": {},
   "source": [
    "Array has changed in the method, but no effect on caller."
   ]
  },
  {
   "cell_type": "markdown",
   "metadata": {},
   "source": [
    "## Parameters are passed by value\n",
    "Well known behaviour:\n",
    "- object reference is passed\n",
    "- caller and method work on same object\n",
    "  \n",
    "What happens when using numbers?"
   ]
  },
  {
   "cell_type": "code",
   "execution_count": 7,
   "metadata": {},
   "outputs": [],
   "source": [
    "def increase_number(number):\n",
    "    number = number + 10\n",
    "    print(number)\n",
    "    return number"
   ]
  },
  {
   "cell_type": "code",
   "execution_count": 8,
   "metadata": {},
   "outputs": [
    {
     "name": "stdout",
     "output_type": "stream",
     "text": [
      "10\n",
      "20\n",
      "20\n"
     ]
    }
   ],
   "source": [
    "n = 10\n",
    "print(n)\n",
    "increase_number(n)\n",
    "print(n)"
   ]
  },
  {
   "cell_type": "markdown",
   "metadata": {},
   "source": [
    "Numeric type variables can not be changed in a function.  "
   ]
  },
  {
   "cell_type": "code",
   "execution_count": 10,
   "metadata": {
    "scrolled": true
   },
   "outputs": [
    {
     "name": "stdout",
     "output_type": "stream",
     "text": [
      "<class 'int'>\n"
     ]
    }
   ],
   "source": [
    "print(type(n))"
   ]
  },
  {
   "cell_type": "markdown",
   "metadata": {},
   "source": [
    "Why? They are objects indeed...\n",
    "\n",
    "- Immutable objects do not change, but new is created  \n",
    "- Depends on operator behaviour (see later in OOP section)  \n",
    "  They do not contain an operation to change themselves\n",
    "- Numeric variables can not be passed by reference to change in a function  \n",
    "  Because they are passed by reference, but they are immutable\n",
    "  \n",
    "What about strings?  \n",
    "Strings are also immutable objects, as shown below"
   ]
  },
  {
   "cell_type": "code",
   "execution_count": 9,
   "metadata": {},
   "outputs": [],
   "source": [
    "def modify_string(sentence):\n",
    "    print(sentence.replace(\"apple\", \"banana\"))\n",
    "    print(sentence)"
   ]
  },
  {
   "cell_type": "code",
   "execution_count": 8,
   "metadata": {},
   "outputs": [
    {
     "name": "stdout",
     "output_type": "stream",
     "text": [
      "I like apple\n",
      "I like banana\n",
      "I like apple\n",
      "I like apple\n"
     ]
    }
   ],
   "source": [
    "my_sentence = \"I like apple\"\n",
    "print(my_sentence)\n",
    "modify_string(my_sentence)\n",
    "print(my_sentence)"
   ]
  },
  {
   "cell_type": "markdown",
   "metadata": {},
   "source": [
    "# Method references\n",
    "- to call a method, its name is used\n",
    "- indeed, name of method is a variable, referring the method"
   ]
  },
  {
   "cell_type": "code",
   "execution_count": 8,
   "metadata": {},
   "outputs": [
    {
     "name": "stdout",
     "output_type": "stream",
     "text": [
      "I like banana\n",
      "I like apple\n"
     ]
    }
   ],
   "source": [
    "my_method_reference = modify_string\n",
    "my_method_reference(my_sentence)"
   ]
  },
  {
   "cell_type": "code",
   "execution_count": 39,
   "metadata": {},
   "outputs": [],
   "source": [
    "import math\n",
    "def geom_avg(a, b):\n",
    "    return math.sqrt(a * b)\n",
    "\n",
    "def arit_avg(a, b):\n",
    "    return (a+b)/2"
   ]
  },
  {
   "cell_type": "code",
   "execution_count": 36,
   "metadata": {},
   "outputs": [],
   "source": [
    "def compute_avg(num_1, num_2, operation):\n",
    "    return operation(num_1, num_2)"
   ]
  },
  {
   "cell_type": "code",
   "execution_count": 40,
   "metadata": {},
   "outputs": [
    {
     "name": "stdout",
     "output_type": "stream",
     "text": [
      "10.0\n",
      "14.5\n"
     ]
    }
   ],
   "source": [
    "print(compute_avg(4, 25, geom_avg))\n",
    "print(compute_avg(4, 25, arit_avg))"
   ]
  },
  {
   "cell_type": "code",
   "execution_count": 41,
   "metadata": {},
   "outputs": [],
   "source": [
    "def execute_operations(op_1, op_2, operations):\n",
    "    results = []\n",
    "    for operation in operations:\n",
    "        results.append(operation(op_1, op_2))\n",
    "    return results"
   ]
  },
  {
   "cell_type": "code",
   "execution_count": 42,
   "metadata": {},
   "outputs": [
    {
     "name": "stdout",
     "output_type": "stream",
     "text": [
      "[10.0]\n"
     ]
    }
   ],
   "source": [
    "print(execute_operations(4, 25, [geo_avg]))"
   ]
  },
  {
   "cell_type": "code",
   "execution_count": 43,
   "metadata": {},
   "outputs": [
    {
     "name": "stdout",
     "output_type": "stream",
     "text": [
      "[14.5]\n"
     ]
    }
   ],
   "source": [
    "print(execute_operations(4, 25, [arit_avg]))"
   ]
  },
  {
   "cell_type": "code",
   "execution_count": 45,
   "metadata": {},
   "outputs": [
    {
     "name": "stdout",
     "output_type": "stream",
     "text": [
      "[10.0, 14.5]\n",
      "[14.5, 10.0, 14.5]\n"
     ]
    }
   ],
   "source": [
    "print(execute_operations(4, 25, [geo_avg, arit_avg]))\n",
    "print(execute_operations(4, 25, [arit_avg, geo_avg, arit_avg]))"
   ]
  },
  {
   "cell_type": "markdown",
   "metadata": {},
   "source": [
    "## Anonymous methods (expressions)\n",
    "Syntax of anonymous expression:  \n",
    "```lambda``` &lt;argument(s)&gt;: &lt;expression&gt;"
   ]
  },
  {
   "cell_type": "code",
   "execution_count": 26,
   "metadata": {},
   "outputs": [
    {
     "name": "stdout",
     "output_type": "stream",
     "text": [
      "17\n"
     ]
    }
   ],
   "source": [
    "le_1 = lambda a: a+10\n",
    "print(le_1(7))"
   ]
  },
  {
   "cell_type": "code",
   "execution_count": 27,
   "metadata": {},
   "outputs": [
    {
     "name": "stdout",
     "output_type": "stream",
     "text": [
      "12\n"
     ]
    }
   ],
   "source": [
    "le_2 = lambda a, b: a*b\n",
    "print(le_2(3, 4))"
   ]
  },
  {
   "cell_type": "code",
   "execution_count": 47,
   "metadata": {},
   "outputs": [
    {
     "name": "stdout",
     "output_type": "stream",
     "text": [
      "[10.0, 14.5]\n"
     ]
    }
   ],
   "source": [
    "operations = [\n",
    "    lambda a, b: math.sqrt(a*b), \n",
    "    lambda a, b: (a+b)/2\n",
    "]\n",
    "print(execute_operations(4, 25, operations))"
   ]
  }
 ],
 "metadata": {
  "kernelspec": {
   "display_name": "Python 3",
   "language": "python",
   "name": "python3"
  },
  "language_info": {
   "codemirror_mode": {
    "name": "ipython",
    "version": 3
   },
   "file_extension": ".py",
   "mimetype": "text/x-python",
   "name": "python",
   "nbconvert_exporter": "python",
   "pygments_lexer": "ipython3",
   "version": "3.7.5"
  }
 },
 "nbformat": 4,
 "nbformat_minor": 4
}
